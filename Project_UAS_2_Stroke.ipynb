{
  "cells": [
    {
      "cell_type": "markdown",
      "metadata": {
        "id": "fo-plHkFiBUm"
      },
      "source": [
        "#**Classification Dataset Stroke**"
      ]
    },
    {
      "cell_type": "markdown",
      "metadata": {
        "id": "JbPqG_C0max4"
      },
      "source": [
        "##**Import Library and Read Dataset**"
      ]
    },
    {
      "cell_type": "code",
      "execution_count": 125,
      "metadata": {
        "id": "LP2WkjKugUkp",
        "colab": {
          "base_uri": "https://localhost:8080/",
          "height": 206
        },
        "outputId": "9893b6e8-3405-400b-f915-fefa9d021a59"
      },
      "outputs": [
        {
          "output_type": "execute_result",
          "data": {
            "text/plain": [
              "      id  gender   age  hypertension  heart_disease ever_married  \\\n",
              "0   9046    Male  67.0             0              1          Yes   \n",
              "1  51676  Female  61.0             0              0          Yes   \n",
              "2  31112    Male  80.0             0              1          Yes   \n",
              "3  60182  Female  49.0             0              0          Yes   \n",
              "4   1665  Female  79.0             1              0          Yes   \n",
              "\n",
              "       work_type Residence_type  avg_glucose_level   bmi   smoking_status  \\\n",
              "0        Private          Urban             228.69  36.6  formerly smoked   \n",
              "1  Self-employed          Rural             202.21   NaN     never smoked   \n",
              "2        Private          Rural             105.92  32.5     never smoked   \n",
              "3        Private          Urban             171.23  34.4           smokes   \n",
              "4  Self-employed          Rural             174.12  24.0     never smoked   \n",
              "\n",
              "   stroke  \n",
              "0       1  \n",
              "1       1  \n",
              "2       1  \n",
              "3       1  \n",
              "4       1  "
            ],
            "text/html": [
              "\n",
              "  <div id=\"df-ce17f26c-dc04-468c-aaf7-76350de90f09\">\n",
              "    <div class=\"colab-df-container\">\n",
              "      <div>\n",
              "<style scoped>\n",
              "    .dataframe tbody tr th:only-of-type {\n",
              "        vertical-align: middle;\n",
              "    }\n",
              "\n",
              "    .dataframe tbody tr th {\n",
              "        vertical-align: top;\n",
              "    }\n",
              "\n",
              "    .dataframe thead th {\n",
              "        text-align: right;\n",
              "    }\n",
              "</style>\n",
              "<table border=\"1\" class=\"dataframe\">\n",
              "  <thead>\n",
              "    <tr style=\"text-align: right;\">\n",
              "      <th></th>\n",
              "      <th>id</th>\n",
              "      <th>gender</th>\n",
              "      <th>age</th>\n",
              "      <th>hypertension</th>\n",
              "      <th>heart_disease</th>\n",
              "      <th>ever_married</th>\n",
              "      <th>work_type</th>\n",
              "      <th>Residence_type</th>\n",
              "      <th>avg_glucose_level</th>\n",
              "      <th>bmi</th>\n",
              "      <th>smoking_status</th>\n",
              "      <th>stroke</th>\n",
              "    </tr>\n",
              "  </thead>\n",
              "  <tbody>\n",
              "    <tr>\n",
              "      <th>0</th>\n",
              "      <td>9046</td>\n",
              "      <td>Male</td>\n",
              "      <td>67.0</td>\n",
              "      <td>0</td>\n",
              "      <td>1</td>\n",
              "      <td>Yes</td>\n",
              "      <td>Private</td>\n",
              "      <td>Urban</td>\n",
              "      <td>228.69</td>\n",
              "      <td>36.6</td>\n",
              "      <td>formerly smoked</td>\n",
              "      <td>1</td>\n",
              "    </tr>\n",
              "    <tr>\n",
              "      <th>1</th>\n",
              "      <td>51676</td>\n",
              "      <td>Female</td>\n",
              "      <td>61.0</td>\n",
              "      <td>0</td>\n",
              "      <td>0</td>\n",
              "      <td>Yes</td>\n",
              "      <td>Self-employed</td>\n",
              "      <td>Rural</td>\n",
              "      <td>202.21</td>\n",
              "      <td>NaN</td>\n",
              "      <td>never smoked</td>\n",
              "      <td>1</td>\n",
              "    </tr>\n",
              "    <tr>\n",
              "      <th>2</th>\n",
              "      <td>31112</td>\n",
              "      <td>Male</td>\n",
              "      <td>80.0</td>\n",
              "      <td>0</td>\n",
              "      <td>1</td>\n",
              "      <td>Yes</td>\n",
              "      <td>Private</td>\n",
              "      <td>Rural</td>\n",
              "      <td>105.92</td>\n",
              "      <td>32.5</td>\n",
              "      <td>never smoked</td>\n",
              "      <td>1</td>\n",
              "    </tr>\n",
              "    <tr>\n",
              "      <th>3</th>\n",
              "      <td>60182</td>\n",
              "      <td>Female</td>\n",
              "      <td>49.0</td>\n",
              "      <td>0</td>\n",
              "      <td>0</td>\n",
              "      <td>Yes</td>\n",
              "      <td>Private</td>\n",
              "      <td>Urban</td>\n",
              "      <td>171.23</td>\n",
              "      <td>34.4</td>\n",
              "      <td>smokes</td>\n",
              "      <td>1</td>\n",
              "    </tr>\n",
              "    <tr>\n",
              "      <th>4</th>\n",
              "      <td>1665</td>\n",
              "      <td>Female</td>\n",
              "      <td>79.0</td>\n",
              "      <td>1</td>\n",
              "      <td>0</td>\n",
              "      <td>Yes</td>\n",
              "      <td>Self-employed</td>\n",
              "      <td>Rural</td>\n",
              "      <td>174.12</td>\n",
              "      <td>24.0</td>\n",
              "      <td>never smoked</td>\n",
              "      <td>1</td>\n",
              "    </tr>\n",
              "  </tbody>\n",
              "</table>\n",
              "</div>\n",
              "      <button class=\"colab-df-convert\" onclick=\"convertToInteractive('df-ce17f26c-dc04-468c-aaf7-76350de90f09')\"\n",
              "              title=\"Convert this dataframe to an interactive table.\"\n",
              "              style=\"display:none;\">\n",
              "        \n",
              "  <svg xmlns=\"http://www.w3.org/2000/svg\" height=\"24px\"viewBox=\"0 0 24 24\"\n",
              "       width=\"24px\">\n",
              "    <path d=\"M0 0h24v24H0V0z\" fill=\"none\"/>\n",
              "    <path d=\"M18.56 5.44l.94 2.06.94-2.06 2.06-.94-2.06-.94-.94-2.06-.94 2.06-2.06.94zm-11 1L8.5 8.5l.94-2.06 2.06-.94-2.06-.94L8.5 2.5l-.94 2.06-2.06.94zm10 10l.94 2.06.94-2.06 2.06-.94-2.06-.94-.94-2.06-.94 2.06-2.06.94z\"/><path d=\"M17.41 7.96l-1.37-1.37c-.4-.4-.92-.59-1.43-.59-.52 0-1.04.2-1.43.59L10.3 9.45l-7.72 7.72c-.78.78-.78 2.05 0 2.83L4 21.41c.39.39.9.59 1.41.59.51 0 1.02-.2 1.41-.59l7.78-7.78 2.81-2.81c.8-.78.8-2.07 0-2.86zM5.41 20L4 18.59l7.72-7.72 1.47 1.35L5.41 20z\"/>\n",
              "  </svg>\n",
              "      </button>\n",
              "      \n",
              "  <style>\n",
              "    .colab-df-container {\n",
              "      display:flex;\n",
              "      flex-wrap:wrap;\n",
              "      gap: 12px;\n",
              "    }\n",
              "\n",
              "    .colab-df-convert {\n",
              "      background-color: #E8F0FE;\n",
              "      border: none;\n",
              "      border-radius: 50%;\n",
              "      cursor: pointer;\n",
              "      display: none;\n",
              "      fill: #1967D2;\n",
              "      height: 32px;\n",
              "      padding: 0 0 0 0;\n",
              "      width: 32px;\n",
              "    }\n",
              "\n",
              "    .colab-df-convert:hover {\n",
              "      background-color: #E2EBFA;\n",
              "      box-shadow: 0px 1px 2px rgba(60, 64, 67, 0.3), 0px 1px 3px 1px rgba(60, 64, 67, 0.15);\n",
              "      fill: #174EA6;\n",
              "    }\n",
              "\n",
              "    [theme=dark] .colab-df-convert {\n",
              "      background-color: #3B4455;\n",
              "      fill: #D2E3FC;\n",
              "    }\n",
              "\n",
              "    [theme=dark] .colab-df-convert:hover {\n",
              "      background-color: #434B5C;\n",
              "      box-shadow: 0px 1px 3px 1px rgba(0, 0, 0, 0.15);\n",
              "      filter: drop-shadow(0px 1px 2px rgba(0, 0, 0, 0.3));\n",
              "      fill: #FFFFFF;\n",
              "    }\n",
              "  </style>\n",
              "\n",
              "      <script>\n",
              "        const buttonEl =\n",
              "          document.querySelector('#df-ce17f26c-dc04-468c-aaf7-76350de90f09 button.colab-df-convert');\n",
              "        buttonEl.style.display =\n",
              "          google.colab.kernel.accessAllowed ? 'block' : 'none';\n",
              "\n",
              "        async function convertToInteractive(key) {\n",
              "          const element = document.querySelector('#df-ce17f26c-dc04-468c-aaf7-76350de90f09');\n",
              "          const dataTable =\n",
              "            await google.colab.kernel.invokeFunction('convertToInteractive',\n",
              "                                                     [key], {});\n",
              "          if (!dataTable) return;\n",
              "\n",
              "          const docLinkHtml = 'Like what you see? Visit the ' +\n",
              "            '<a target=\"_blank\" href=https://colab.research.google.com/notebooks/data_table.ipynb>data table notebook</a>'\n",
              "            + ' to learn more about interactive tables.';\n",
              "          element.innerHTML = '';\n",
              "          dataTable['output_type'] = 'display_data';\n",
              "          await google.colab.output.renderOutput(dataTable, element);\n",
              "          const docLink = document.createElement('div');\n",
              "          docLink.innerHTML = docLinkHtml;\n",
              "          element.appendChild(docLink);\n",
              "        }\n",
              "      </script>\n",
              "    </div>\n",
              "  </div>\n",
              "  "
            ]
          },
          "metadata": {},
          "execution_count": 125
        }
      ],
      "source": [
        "from sklearn.neural_network import MLPClassifier #classifier\n",
        "from sklearn.linear_model import LogisticRegression #classifier\n",
        "from sklearn.naive_bayes import GaussianNB #classifier\n",
        "from sklearn.neighbors import KNeighborsClassifier #classifier\n",
        "from sklearn.model_selection import train_test_split #evaluation\n",
        "from sklearn.model_selection import LeaveOneOut #evaluation\n",
        "from sklearn.model_selection import StratifiedShuffleSplit, cross_val_score #evaluation\n",
        "from sklearn.metrics import classification_report #evaluation\n",
        "from sklearn.metrics import confusion_matrix, plot_confusion_matrix #evaluation\n",
        "from sklearn.metrics import accuracy_score #evaluation\n",
        "from sklearn.feature_selection import VarianceThreshold #feature selection\n",
        "from sklearn.feature_selection import chi2 #feature selection\n",
        "from sklearn.feature_selection import f_classif #feature selection\n",
        "from sklearn.decomposition import PCA #Dimentionality Reduction\n",
        "from sklearn.preprocessing import StandardScaler #preprocessing\n",
        "from sklearn.preprocessing import MinMaxScaler #preprocessing\n",
        "from sklearn.preprocessing import Normalizer #preprocessing\n",
        "from sklearn.preprocessing import PolynomialFeatures #preprocessing\n",
        "import numpy as np #preprocessing\n",
        "import pandas as pd #preprocessing\n",
        "import math #preprocessing\n",
        "import matplotlib.pyplot as plt #plotting\n",
        "from imblearn.over_sampling import SMOTE #oversampling data\n",
        "from time import time #execute time\n",
        " \n",
        "start = time()\n",
        "data = pd.read_csv('https://drive.google.com/uc?export=download&id=1nUnX4BJpVoFCFy4JXqUmCRqyuUWZTWuv')\n",
        "data.head()"
      ]
    },
    {
      "cell_type": "markdown",
      "metadata": {
        "id": "eubWFYuVx66U"
      },
      "source": [
        "##**Analyzing Data**"
      ]
    },
    {
      "cell_type": "code",
      "execution_count": 126,
      "metadata": {
        "id": "zEis6yJlRJC7"
      },
      "outputs": [],
      "source": [
        "#delete id\n",
        "data.drop(['id'], inplace=True, axis=1)"
      ]
    },
    {
      "cell_type": "code",
      "execution_count": 127,
      "metadata": {
        "id": "s77Of_TM1Jtj",
        "colab": {
          "base_uri": "https://localhost:8080/"
        },
        "outputId": "605ff664-e8a9-4328-8927-c8bb91ea5337"
      },
      "outputs": [
        {
          "output_type": "stream",
          "name": "stdout",
          "text": [
            "<class 'pandas.core.frame.DataFrame'>\n",
            "RangeIndex: 5110 entries, 0 to 5109\n",
            "Data columns (total 11 columns):\n",
            " #   Column             Non-Null Count  Dtype  \n",
            "---  ------             --------------  -----  \n",
            " 0   gender             5110 non-null   object \n",
            " 1   age                5110 non-null   float64\n",
            " 2   hypertension       5110 non-null   int64  \n",
            " 3   heart_disease      5110 non-null   int64  \n",
            " 4   ever_married       5110 non-null   object \n",
            " 5   work_type          5110 non-null   object \n",
            " 6   Residence_type     5110 non-null   object \n",
            " 7   avg_glucose_level  5110 non-null   float64\n",
            " 8   bmi                4909 non-null   float64\n",
            " 9   smoking_status     5110 non-null   object \n",
            " 10  stroke             5110 non-null   int64  \n",
            "dtypes: float64(3), int64(3), object(5)\n",
            "memory usage: 439.3+ KB\n"
          ]
        }
      ],
      "source": [
        "#check dtype for each data\n",
        "data.info()"
      ]
    },
    {
      "cell_type": "code",
      "execution_count": 128,
      "metadata": {
        "colab": {
          "base_uri": "https://localhost:8080/",
          "height": 300
        },
        "id": "m1Jqlkr7LT53",
        "outputId": "a58b9ca6-0c7f-40ea-c7d0-3a146e36dc41"
      },
      "outputs": [
        {
          "output_type": "execute_result",
          "data": {
            "text/plain": [
              "               age  hypertension  heart_disease  avg_glucose_level  \\\n",
              "count  5110.000000   5110.000000    5110.000000        5110.000000   \n",
              "mean     43.226614      0.097456       0.054012         106.147677   \n",
              "std      22.612647      0.296607       0.226063          45.283560   \n",
              "min       0.080000      0.000000       0.000000          55.120000   \n",
              "25%      25.000000      0.000000       0.000000          77.245000   \n",
              "50%      45.000000      0.000000       0.000000          91.885000   \n",
              "75%      61.000000      0.000000       0.000000         114.090000   \n",
              "max      82.000000      1.000000       1.000000         271.740000   \n",
              "\n",
              "               bmi       stroke  \n",
              "count  4909.000000  5110.000000  \n",
              "mean     28.893237     0.048728  \n",
              "std       7.854067     0.215320  \n",
              "min      10.300000     0.000000  \n",
              "25%      23.500000     0.000000  \n",
              "50%      28.100000     0.000000  \n",
              "75%      33.100000     0.000000  \n",
              "max      97.600000     1.000000  "
            ],
            "text/html": [
              "\n",
              "  <div id=\"df-6a74337e-a01e-4e55-b47e-27683a8a36b7\">\n",
              "    <div class=\"colab-df-container\">\n",
              "      <div>\n",
              "<style scoped>\n",
              "    .dataframe tbody tr th:only-of-type {\n",
              "        vertical-align: middle;\n",
              "    }\n",
              "\n",
              "    .dataframe tbody tr th {\n",
              "        vertical-align: top;\n",
              "    }\n",
              "\n",
              "    .dataframe thead th {\n",
              "        text-align: right;\n",
              "    }\n",
              "</style>\n",
              "<table border=\"1\" class=\"dataframe\">\n",
              "  <thead>\n",
              "    <tr style=\"text-align: right;\">\n",
              "      <th></th>\n",
              "      <th>age</th>\n",
              "      <th>hypertension</th>\n",
              "      <th>heart_disease</th>\n",
              "      <th>avg_glucose_level</th>\n",
              "      <th>bmi</th>\n",
              "      <th>stroke</th>\n",
              "    </tr>\n",
              "  </thead>\n",
              "  <tbody>\n",
              "    <tr>\n",
              "      <th>count</th>\n",
              "      <td>5110.000000</td>\n",
              "      <td>5110.000000</td>\n",
              "      <td>5110.000000</td>\n",
              "      <td>5110.000000</td>\n",
              "      <td>4909.000000</td>\n",
              "      <td>5110.000000</td>\n",
              "    </tr>\n",
              "    <tr>\n",
              "      <th>mean</th>\n",
              "      <td>43.226614</td>\n",
              "      <td>0.097456</td>\n",
              "      <td>0.054012</td>\n",
              "      <td>106.147677</td>\n",
              "      <td>28.893237</td>\n",
              "      <td>0.048728</td>\n",
              "    </tr>\n",
              "    <tr>\n",
              "      <th>std</th>\n",
              "      <td>22.612647</td>\n",
              "      <td>0.296607</td>\n",
              "      <td>0.226063</td>\n",
              "      <td>45.283560</td>\n",
              "      <td>7.854067</td>\n",
              "      <td>0.215320</td>\n",
              "    </tr>\n",
              "    <tr>\n",
              "      <th>min</th>\n",
              "      <td>0.080000</td>\n",
              "      <td>0.000000</td>\n",
              "      <td>0.000000</td>\n",
              "      <td>55.120000</td>\n",
              "      <td>10.300000</td>\n",
              "      <td>0.000000</td>\n",
              "    </tr>\n",
              "    <tr>\n",
              "      <th>25%</th>\n",
              "      <td>25.000000</td>\n",
              "      <td>0.000000</td>\n",
              "      <td>0.000000</td>\n",
              "      <td>77.245000</td>\n",
              "      <td>23.500000</td>\n",
              "      <td>0.000000</td>\n",
              "    </tr>\n",
              "    <tr>\n",
              "      <th>50%</th>\n",
              "      <td>45.000000</td>\n",
              "      <td>0.000000</td>\n",
              "      <td>0.000000</td>\n",
              "      <td>91.885000</td>\n",
              "      <td>28.100000</td>\n",
              "      <td>0.000000</td>\n",
              "    </tr>\n",
              "    <tr>\n",
              "      <th>75%</th>\n",
              "      <td>61.000000</td>\n",
              "      <td>0.000000</td>\n",
              "      <td>0.000000</td>\n",
              "      <td>114.090000</td>\n",
              "      <td>33.100000</td>\n",
              "      <td>0.000000</td>\n",
              "    </tr>\n",
              "    <tr>\n",
              "      <th>max</th>\n",
              "      <td>82.000000</td>\n",
              "      <td>1.000000</td>\n",
              "      <td>1.000000</td>\n",
              "      <td>271.740000</td>\n",
              "      <td>97.600000</td>\n",
              "      <td>1.000000</td>\n",
              "    </tr>\n",
              "  </tbody>\n",
              "</table>\n",
              "</div>\n",
              "      <button class=\"colab-df-convert\" onclick=\"convertToInteractive('df-6a74337e-a01e-4e55-b47e-27683a8a36b7')\"\n",
              "              title=\"Convert this dataframe to an interactive table.\"\n",
              "              style=\"display:none;\">\n",
              "        \n",
              "  <svg xmlns=\"http://www.w3.org/2000/svg\" height=\"24px\"viewBox=\"0 0 24 24\"\n",
              "       width=\"24px\">\n",
              "    <path d=\"M0 0h24v24H0V0z\" fill=\"none\"/>\n",
              "    <path d=\"M18.56 5.44l.94 2.06.94-2.06 2.06-.94-2.06-.94-.94-2.06-.94 2.06-2.06.94zm-11 1L8.5 8.5l.94-2.06 2.06-.94-2.06-.94L8.5 2.5l-.94 2.06-2.06.94zm10 10l.94 2.06.94-2.06 2.06-.94-2.06-.94-.94-2.06-.94 2.06-2.06.94z\"/><path d=\"M17.41 7.96l-1.37-1.37c-.4-.4-.92-.59-1.43-.59-.52 0-1.04.2-1.43.59L10.3 9.45l-7.72 7.72c-.78.78-.78 2.05 0 2.83L4 21.41c.39.39.9.59 1.41.59.51 0 1.02-.2 1.41-.59l7.78-7.78 2.81-2.81c.8-.78.8-2.07 0-2.86zM5.41 20L4 18.59l7.72-7.72 1.47 1.35L5.41 20z\"/>\n",
              "  </svg>\n",
              "      </button>\n",
              "      \n",
              "  <style>\n",
              "    .colab-df-container {\n",
              "      display:flex;\n",
              "      flex-wrap:wrap;\n",
              "      gap: 12px;\n",
              "    }\n",
              "\n",
              "    .colab-df-convert {\n",
              "      background-color: #E8F0FE;\n",
              "      border: none;\n",
              "      border-radius: 50%;\n",
              "      cursor: pointer;\n",
              "      display: none;\n",
              "      fill: #1967D2;\n",
              "      height: 32px;\n",
              "      padding: 0 0 0 0;\n",
              "      width: 32px;\n",
              "    }\n",
              "\n",
              "    .colab-df-convert:hover {\n",
              "      background-color: #E2EBFA;\n",
              "      box-shadow: 0px 1px 2px rgba(60, 64, 67, 0.3), 0px 1px 3px 1px rgba(60, 64, 67, 0.15);\n",
              "      fill: #174EA6;\n",
              "    }\n",
              "\n",
              "    [theme=dark] .colab-df-convert {\n",
              "      background-color: #3B4455;\n",
              "      fill: #D2E3FC;\n",
              "    }\n",
              "\n",
              "    [theme=dark] .colab-df-convert:hover {\n",
              "      background-color: #434B5C;\n",
              "      box-shadow: 0px 1px 3px 1px rgba(0, 0, 0, 0.15);\n",
              "      filter: drop-shadow(0px 1px 2px rgba(0, 0, 0, 0.3));\n",
              "      fill: #FFFFFF;\n",
              "    }\n",
              "  </style>\n",
              "\n",
              "      <script>\n",
              "        const buttonEl =\n",
              "          document.querySelector('#df-6a74337e-a01e-4e55-b47e-27683a8a36b7 button.colab-df-convert');\n",
              "        buttonEl.style.display =\n",
              "          google.colab.kernel.accessAllowed ? 'block' : 'none';\n",
              "\n",
              "        async function convertToInteractive(key) {\n",
              "          const element = document.querySelector('#df-6a74337e-a01e-4e55-b47e-27683a8a36b7');\n",
              "          const dataTable =\n",
              "            await google.colab.kernel.invokeFunction('convertToInteractive',\n",
              "                                                     [key], {});\n",
              "          if (!dataTable) return;\n",
              "\n",
              "          const docLinkHtml = 'Like what you see? Visit the ' +\n",
              "            '<a target=\"_blank\" href=https://colab.research.google.com/notebooks/data_table.ipynb>data table notebook</a>'\n",
              "            + ' to learn more about interactive tables.';\n",
              "          element.innerHTML = '';\n",
              "          dataTable['output_type'] = 'display_data';\n",
              "          await google.colab.output.renderOutput(dataTable, element);\n",
              "          const docLink = document.createElement('div');\n",
              "          docLink.innerHTML = docLinkHtml;\n",
              "          element.appendChild(docLink);\n",
              "        }\n",
              "      </script>\n",
              "    </div>\n",
              "  </div>\n",
              "  "
            ]
          },
          "metadata": {},
          "execution_count": 128
        }
      ],
      "source": [
        "#check descriptive statistics data\n",
        "data.describe()"
      ]
    },
    {
      "cell_type": "code",
      "execution_count": 129,
      "metadata": {
        "id": "fsRI7ZweLTd2",
        "colab": {
          "base_uri": "https://localhost:8080/",
          "height": 608
        },
        "outputId": "0566c9cd-85f1-4659-9341-083ae7cc14e9"
      },
      "outputs": [
        {
          "output_type": "display_data",
          "data": {
            "text/plain": [
              "<Figure size 1944x720 with 10 Axes>"
            ],
            "image/png": "[encoded data removed]"
          },
          "metadata": {
            "needs_background": "light"
          }
        }
      ],
      "source": [
        "#display the distribution of data features\n",
        "plt.subplots(figsize=(27,10))\n",
        "for i in range(len(data.columns)-1):\n",
        "  plt.subplot(2,5,i+1)\n",
        "  plt.hist(data[data.columns[i]], bins=5)\n",
        "  plt.title(data.columns[i])"
      ]
    },
    {
      "cell_type": "code",
      "execution_count": 130,
      "metadata": {
        "id": "Ip6oHmlYRgsF",
        "colab": {
          "base_uri": "https://localhost:8080/",
          "height": 298
        },
        "outputId": "d82750fc-9c8a-4145-da33-c8bd890dc68e"
      },
      "outputs": [
        {
          "output_type": "execute_result",
          "data": {
            "text/plain": [
              "Text(0.5, 1.0, 'stroke')"
            ]
          },
          "metadata": {},
          "execution_count": 130
        },
        {
          "output_type": "display_data",
          "data": {
            "text/plain": [
              "<Figure size 432x288 with 1 Axes>"
            ],
            "image/png": "[encoded data removed]"
          },
          "metadata": {
            "needs_background": "light"
          }
        }
      ],
      "source": [
        "#display the distribution of data target\n",
        "plt.hist(data[data.columns[-1]], bins=3)\n",
        "plt.title(data.columns[-1])"
      ]
    },
    {
      "cell_type": "markdown",
      "metadata": {
        "id": "gVc_ywpX8KrD"
      },
      "source": [
        "##**Prepare Function**"
      ]
    },
    {
      "cell_type": "code",
      "execution_count": 131,
      "metadata": {
        "id": "UJaSi2DK8NP2"
      },
      "outputs": [],
      "source": [
        "#Function For Preprocessing Data -----------------------------------------------\n",
        "#handling missing value\n",
        "def handling_missing_value(data, handling='drop'):\n",
        "  shape_before = data.shape\n",
        "  if handling=='drop': data.dropna(inplace=True)\n",
        "  elif handling=='median': data.fillna(data.median(), inplace=True)\n",
        "  elif handling=='mean': data.fillna(data.mean(), inplace=True)\n",
        "  elif handling=='mean': data.interpolate(inplace=True)\n",
        "  print('Handling Missing Value - Successfully')\n",
        "  print(f'Shape: (data{shape_before} => data{data.shape})')\n",
        "  return data\n",
        "\n",
        "#detecing and drop outliers - Interquartile Range\n",
        "def drop_outliers(xtrain, ytrain):\n",
        "  shape_before = xtrain.shape, ytrain.shape\n",
        "  for i in range(len(xtrain[0])):\n",
        "    feature = xtrain[:,i]\n",
        "    q1, q3 = np.percentile(feature, [25,75])\n",
        "    iqr = q3-q1\n",
        "    lb, ub = q1-1.5*iqr, q3+1.5*iqr\n",
        "    index_outliers = np.where((feature<lb) | (feature>ub))\n",
        "    xtrain = np.delete(xtrain, index_outliers, axis=0)\n",
        "    ytrain = np.delete(ytrain, index_outliers, axis=0)\n",
        "  print('Drop Outliers - Successfully')\n",
        "  print(f'Shape: (Feature{shape_before[0]} Target{shape_before[1]} => Feature{xtrain.shape} Target{ytrain.shape})')\n",
        "  return xtrain, ytrain\n",
        "\n",
        "#scaling - Standardization\n",
        "def standard_scaler(xtrain, xtest):\n",
        "  scaler = StandardScaler()\n",
        "  scaler.fit(xtrain)\n",
        "  xtrain = scaler.transform(xtrain)\n",
        "  xtest = scaler.transform(xtest)\n",
        "  print('Standard Scaling - Successfully')\n",
        "  return xtrain, xtest\n",
        "\n",
        "\n",
        "#scaling - MinMax\n",
        "def min_max_scaler(xtrain, xtest, scale=(0,1)):\n",
        "  scaler = MinMaxScaler(feature_range=scale)\n",
        "  scaler.fit(xtrain)\n",
        "  xtrain = scaler.transform(xtrain)\n",
        "  xtest = scaler.transform(xtest)\n",
        "  print('MinMax Scaling - Successfully')\n",
        "  return xtrain, xtest\n",
        "\n",
        "\n",
        "#Normalization Data\n",
        "def normalization(xtrain, xtest, n='l2'):\n",
        "  transformer = Normalizer(norm=n)\n",
        "  transformer.fit(xtrain)\n",
        "  xtrain = transformer.transform(xtrain)\n",
        "  xtest = transformer.transform(xtest)\n",
        "  print('Normalization Data - Successfully')\n",
        "  return xtrain, xtest\n",
        "\n",
        "\n",
        "#Generating Polynomial Features\n",
        "def generate_polynomial_features(xtrain, xtest, degree=2):\n",
        "  transformer = PolynomialFeatures(degree=2, include_bias=False)\n",
        "  transformer.fit(xtrain)\n",
        "  xtrain = transformer.transform(xtrain)\n",
        "  xtest = transformer.transform(xtest)\n",
        "  print('Generating Polynomial Features - Successfully')\n",
        "  return xtrain, xtest"
      ]
    },
    {
      "cell_type": "code",
      "execution_count": 132,
      "metadata": {
        "id": "0s-bn7n9C97e"
      },
      "outputs": [],
      "source": [
        "#Function for Evaluation ------------------------------------------------------\n",
        "#Confusion Matrix\n",
        "def display_cm(ytest, ypred, xtest=None, plot=\"no\", model=None, target_names=None):\n",
        "  if plot==\"no\":\n",
        "    cm = confusion_matrix(ytest, ypred)\n",
        "    ncm = confusion_matrix(ytest, ypred, normalize='true')\n",
        "    print(f'Confusion Matrix:\\n{cm}\\n')\n",
        "    print(f'Normalized Confusion Matrix:\\n{ncm}\\n')\n",
        "    \n",
        "  elif plot==\"yes\":\n",
        "    plot_confusion_matrix(model, xtest, ytest, display_labels=target_names, cmap='Blues')\n",
        "    plt.title('Confusion Matrix')\n",
        "    plt.show()\n",
        "\n",
        "    plot_confusion_matrix(model, xtest, ytest, display_labels=target_names, cmap='Blues', normalize='true')\n",
        "    plt.title('Normalized Confusion Matrix')\n",
        "    plt.show()\n",
        "    print('')\n",
        "\n",
        "#Classificastion Report\n",
        "def display_cr(ytest, ypred, target_names):\n",
        "  print(f'Classification Report :\\n{classification_report(ytest, ypred, target_names=target_names, zero_division=0)}')"
      ]
    },
    {
      "cell_type": "markdown",
      "metadata": {
        "id": "czibEYCFyJUS"
      },
      "source": [
        "##**General Preprocessing Data**"
      ]
    },
    {
      "cell_type": "code",
      "execution_count": 133,
      "metadata": {
        "id": "hwOY29czbG6u",
        "colab": {
          "base_uri": "https://localhost:8080/"
        },
        "outputId": "7c564516-91d0-488f-fd65-658b1efc7fee"
      },
      "outputs": [
        {
          "output_type": "stream",
          "name": "stdout",
          "text": [
            "map gender: {'Male': 0, 'Female': 1, 'Other': 2}\n",
            "map ever_married: {'Yes': 0, 'No': 1}\n",
            "map work_type: {'Private': 0, 'Self-employed': 1, 'Govt_job': 2, 'children': 3, 'Never_worked': 4}\n",
            "map Residence_type: {'Urban': 0, 'Rural': 1}\n",
            "map smoking_status: {'formerly smoked': 0, 'never smoked': 1, 'smokes': 2, 'Unknown': 3}\n"
          ]
        }
      ],
      "source": [
        "#encoding categorical\n",
        "for i in data.columns:\n",
        "  if(data[i].dtype == object):\n",
        "    categorical = data[i].unique()\n",
        "    encode = [*range(len(categorical))]\n",
        "    mapper = dict(zip(categorical, encode))\n",
        "    data.replace(mapper, inplace=True)\n",
        "    print(f'map {i}: {mapper}')"
      ]
    },
    {
      "cell_type": "code",
      "execution_count": 134,
      "metadata": {
        "id": "dVECFWBIdj6S",
        "colab": {
          "base_uri": "https://localhost:8080/"
        },
        "outputId": "1ef94a35-32b1-4ee4-86a2-17c5a24d7a0b"
      },
      "outputs": [
        {
          "output_type": "stream",
          "name": "stdout",
          "text": [
            "<class 'pandas.core.frame.DataFrame'>\n",
            "RangeIndex: 5110 entries, 0 to 5109\n",
            "Data columns (total 11 columns):\n",
            " #   Column             Non-Null Count  Dtype  \n",
            "---  ------             --------------  -----  \n",
            " 0   gender             5110 non-null   int64  \n",
            " 1   age                5110 non-null   float64\n",
            " 2   hypertension       5110 non-null   int64  \n",
            " 3   heart_disease      5110 non-null   int64  \n",
            " 4   ever_married       5110 non-null   int64  \n",
            " 5   work_type          5110 non-null   int64  \n",
            " 6   Residence_type     5110 non-null   int64  \n",
            " 7   avg_glucose_level  5110 non-null   float64\n",
            " 8   bmi                4909 non-null   float64\n",
            " 9   smoking_status     5110 non-null   int64  \n",
            " 10  stroke             5110 non-null   int64  \n",
            "dtypes: float64(3), int64(8)\n",
            "memory usage: 439.3 KB\n"
          ]
        }
      ],
      "source": [
        "#check dtype for each features after encoding categorical\n",
        "data.info()"
      ]
    },
    {
      "cell_type": "code",
      "execution_count": 135,
      "metadata": {
        "id": "lshcEUdzgHSJ",
        "colab": {
          "base_uri": "https://localhost:8080/"
        },
        "outputId": "699e17ec-51eb-44da-b483-fdbbd1787bbf"
      },
      "outputs": [
        {
          "output_type": "stream",
          "name": "stdout",
          "text": [
            "Missing value:\n",
            "gender                 0\n",
            "age                    0\n",
            "hypertension           0\n",
            "heart_disease          0\n",
            "ever_married           0\n",
            "work_type              0\n",
            "Residence_type         0\n",
            "avg_glucose_level      0\n",
            "bmi                  201\n",
            "smoking_status         0\n",
            "stroke                 0\n",
            "dtype: int64\n"
          ]
        }
      ],
      "source": [
        "#check missing value\n",
        "print(f'Missing value:\\n{data.isnull().sum()}')"
      ]
    },
    {
      "cell_type": "code",
      "execution_count": 136,
      "metadata": {
        "id": "bPDM-PTzXFnK",
        "colab": {
          "base_uri": "https://localhost:8080/"
        },
        "outputId": "e7b07d48-ea86-40c5-a35d-67823419897f"
      },
      "outputs": [
        {
          "output_type": "stream",
          "name": "stdout",
          "text": [
            "Handling Missing Value - Successfully\n",
            "Shape: (data(5110, 11) => data(5110, 11))\n"
          ]
        }
      ],
      "source": [
        "#handling missing value with median\n",
        "data = handling_missing_value(data, handling='median')"
      ]
    },
    {
      "cell_type": "code",
      "execution_count": 137,
      "metadata": {
        "id": "97y0BDO8fnuQ",
        "colab": {
          "base_uri": "https://localhost:8080/",
          "height": 601
        },
        "outputId": "9f0c31c6-f058-43df-988c-56155ab0fd29"
      },
      "outputs": [
        {
          "output_type": "stream",
          "name": "stdout",
          "text": [
            "outliers gender: 0\n",
            "outliers age: 0\n",
            "outliers hypertension: 498\n",
            "outliers heart_disease: 276\n",
            "outliers ever_married: 0\n",
            "outliers work_type: 0\n",
            "outliers Residence_type: 0\n",
            "outliers avg_glucose_level: 627\n",
            "outliers bmi: 126\n",
            "outliers smoking_status: 0\n",
            "\n",
            "total outliers: 1184\n"
          ]
        },
        {
          "output_type": "execute_result",
          "data": {
            "text/plain": [
              "<matplotlib.axes._subplots.AxesSubplot at 0x7f0603a940a0>"
            ]
          },
          "metadata": {},
          "execution_count": 137
        },
        {
          "output_type": "display_data",
          "data": {
            "text/plain": [
              "<Figure size 1080x432 with 1 Axes>"
            ],
            "image/png": "[encoded data removed]"
          },
          "metadata": {
            "needs_background": "light"
          }
        }
      ],
      "source": [
        "#check outliers features\n",
        "outliers = []\n",
        "for i in range (len(data.columns[:-1])):\n",
        "  feature = data.iloc[:,i]\n",
        "  q1, q3 = np.percentile(feature, [25,75])\n",
        "  iqr = q3-q1\n",
        "  lb, ub = q1-1.5*iqr, q3+1.5*iqr\n",
        "  index_outliers = np.where((feature<lb) | (feature>ub))\n",
        "  outliers.extend(index_outliers[0])\n",
        "  print(f'outliers {data.columns[i]}: {len(index_outliers[0])}')\n",
        "\n",
        "outliers = set(outliers)\n",
        "print(f'\\ntotal outliers: {len(outliers)}')\n",
        "data.iloc[:,:-1].boxplot(figsize=(15,6))"
      ]
    },
    {
      "cell_type": "code",
      "execution_count": 138,
      "metadata": {
        "id": "L6N58TQg3DV2",
        "colab": {
          "base_uri": "https://localhost:8080/",
          "height": 206
        },
        "outputId": "7c609ea2-2012-4360-d1cc-a8cdf9a1e7f9"
      },
      "outputs": [
        {
          "output_type": "execute_result",
          "data": {
            "text/plain": [
              "   gender   age  hypertension  heart_disease  ever_married  work_type  \\\n",
              "0       0  67.0             0              1             0          0   \n",
              "1       1  61.0             0              0             0          1   \n",
              "2       0  80.0             0              1             0          0   \n",
              "3       1  49.0             0              0             0          0   \n",
              "4       1  79.0             1              0             0          1   \n",
              "\n",
              "   Residence_type  avg_glucose_level   bmi  smoking_status  stroke  \n",
              "0               0             228.69  36.6               0       1  \n",
              "1               1             202.21  28.1               1       1  \n",
              "2               1             105.92  32.5               1       1  \n",
              "3               0             171.23  34.4               2       1  \n",
              "4               1             174.12  24.0               1       1  "
            ],
            "text/html": [
              "\n",
              "  <div id=\"df-93c2fd9c-7060-4747-b7f9-c718f4ee5daf\">\n",
              "    <div class=\"colab-df-container\">\n",
              "      <div>\n",
              "<style scoped>\n",
              "    .dataframe tbody tr th:only-of-type {\n",
              "        vertical-align: middle;\n",
              "    }\n",
              "\n",
              "    .dataframe tbody tr th {\n",
              "        vertical-align: top;\n",
              "    }\n",
              "\n",
              "    .dataframe thead th {\n",
              "        text-align: right;\n",
              "    }\n",
              "</style>\n",
              "<table border=\"1\" class=\"dataframe\">\n",
              "  <thead>\n",
              "    <tr style=\"text-align: right;\">\n",
              "      <th></th>\n",
              "      <th>gender</th>\n",
              "      <th>age</th>\n",
              "      <th>hypertension</th>\n",
              "      <th>heart_disease</th>\n",
              "      <th>ever_married</th>\n",
              "      <th>work_type</th>\n",
              "      <th>Residence_type</th>\n",
              "      <th>avg_glucose_level</th>\n",
              "      <th>bmi</th>\n",
              "      <th>smoking_status</th>\n",
              "      <th>stroke</th>\n",
              "    </tr>\n",
              "  </thead>\n",
              "  <tbody>\n",
              "    <tr>\n",
              "      <th>0</th>\n",
              "      <td>0</td>\n",
              "      <td>67.0</td>\n",
              "      <td>0</td>\n",
              "      <td>1</td>\n",
              "      <td>0</td>\n",
              "      <td>0</td>\n",
              "      <td>0</td>\n",
              "      <td>228.69</td>\n",
              "      <td>36.6</td>\n",
              "      <td>0</td>\n",
              "      <td>1</td>\n",
              "    </tr>\n",
              "    <tr>\n",
              "      <th>1</th>\n",
              "      <td>1</td>\n",
              "      <td>61.0</td>\n",
              "      <td>0</td>\n",
              "      <td>0</td>\n",
              "      <td>0</td>\n",
              "      <td>1</td>\n",
              "      <td>1</td>\n",
              "      <td>202.21</td>\n",
              "      <td>28.1</td>\n",
              "      <td>1</td>\n",
              "      <td>1</td>\n",
              "    </tr>\n",
              "    <tr>\n",
              "      <th>2</th>\n",
              "      <td>0</td>\n",
              "      <td>80.0</td>\n",
              "      <td>0</td>\n",
              "      <td>1</td>\n",
              "      <td>0</td>\n",
              "      <td>0</td>\n",
              "      <td>1</td>\n",
              "      <td>105.92</td>\n",
              "      <td>32.5</td>\n",
              "      <td>1</td>\n",
              "      <td>1</td>\n",
              "    </tr>\n",
              "    <tr>\n",
              "      <th>3</th>\n",
              "      <td>1</td>\n",
              "      <td>49.0</td>\n",
              "      <td>0</td>\n",
              "      <td>0</td>\n",
              "      <td>0</td>\n",
              "      <td>0</td>\n",
              "      <td>0</td>\n",
              "      <td>171.23</td>\n",
              "      <td>34.4</td>\n",
              "      <td>2</td>\n",
              "      <td>1</td>\n",
              "    </tr>\n",
              "    <tr>\n",
              "      <th>4</th>\n",
              "      <td>1</td>\n",
              "      <td>79.0</td>\n",
              "      <td>1</td>\n",
              "      <td>0</td>\n",
              "      <td>0</td>\n",
              "      <td>1</td>\n",
              "      <td>1</td>\n",
              "      <td>174.12</td>\n",
              "      <td>24.0</td>\n",
              "      <td>1</td>\n",
              "      <td>1</td>\n",
              "    </tr>\n",
              "  </tbody>\n",
              "</table>\n",
              "</div>\n",
              "      <button class=\"colab-df-convert\" onclick=\"convertToInteractive('df-93c2fd9c-7060-4747-b7f9-c718f4ee5daf')\"\n",
              "              title=\"Convert this dataframe to an interactive table.\"\n",
              "              style=\"display:none;\">\n",
              "        \n",
              "  <svg xmlns=\"http://www.w3.org/2000/svg\" height=\"24px\"viewBox=\"0 0 24 24\"\n",
              "       width=\"24px\">\n",
              "    <path d=\"M0 0h24v24H0V0z\" fill=\"none\"/>\n",
              "    <path d=\"M18.56 5.44l.94 2.06.94-2.06 2.06-.94-2.06-.94-.94-2.06-.94 2.06-2.06.94zm-11 1L8.5 8.5l.94-2.06 2.06-.94-2.06-.94L8.5 2.5l-.94 2.06-2.06.94zm10 10l.94 2.06.94-2.06 2.06-.94-2.06-.94-.94-2.06-.94 2.06-2.06.94z\"/><path d=\"M17.41 7.96l-1.37-1.37c-.4-.4-.92-.59-1.43-.59-.52 0-1.04.2-1.43.59L10.3 9.45l-7.72 7.72c-.78.78-.78 2.05 0 2.83L4 21.41c.39.39.9.59 1.41.59.51 0 1.02-.2 1.41-.59l7.78-7.78 2.81-2.81c.8-.78.8-2.07 0-2.86zM5.41 20L4 18.59l7.72-7.72 1.47 1.35L5.41 20z\"/>\n",
              "  </svg>\n",
              "      </button>\n",
              "      \n",
              "  <style>\n",
              "    .colab-df-container {\n",
              "      display:flex;\n",
              "      flex-wrap:wrap;\n",
              "      gap: 12px;\n",
              "    }\n",
              "\n",
              "    .colab-df-convert {\n",
              "      background-color: #E8F0FE;\n",
              "      border: none;\n",
              "      border-radius: 50%;\n",
              "      cursor: pointer;\n",
              "      display: none;\n",
              "      fill: #1967D2;\n",
              "      height: 32px;\n",
              "      padding: 0 0 0 0;\n",
              "      width: 32px;\n",
              "    }\n",
              "\n",
              "    .colab-df-convert:hover {\n",
              "      background-color: #E2EBFA;\n",
              "      box-shadow: 0px 1px 2px rgba(60, 64, 67, 0.3), 0px 1px 3px 1px rgba(60, 64, 67, 0.15);\n",
              "      fill: #174EA6;\n",
              "    }\n",
              "\n",
              "    [theme=dark] .colab-df-convert {\n",
              "      background-color: #3B4455;\n",
              "      fill: #D2E3FC;\n",
              "    }\n",
              "\n",
              "    [theme=dark] .colab-df-convert:hover {\n",
              "      background-color: #434B5C;\n",
              "      box-shadow: 0px 1px 3px 1px rgba(0, 0, 0, 0.15);\n",
              "      filter: drop-shadow(0px 1px 2px rgba(0, 0, 0, 0.3));\n",
              "      fill: #FFFFFF;\n",
              "    }\n",
              "  </style>\n",
              "\n",
              "      <script>\n",
              "        const buttonEl =\n",
              "          document.querySelector('#df-93c2fd9c-7060-4747-b7f9-c718f4ee5daf button.colab-df-convert');\n",
              "        buttonEl.style.display =\n",
              "          google.colab.kernel.accessAllowed ? 'block' : 'none';\n",
              "\n",
              "        async function convertToInteractive(key) {\n",
              "          const element = document.querySelector('#df-93c2fd9c-7060-4747-b7f9-c718f4ee5daf');\n",
              "          const dataTable =\n",
              "            await google.colab.kernel.invokeFunction('convertToInteractive',\n",
              "                                                     [key], {});\n",
              "          if (!dataTable) return;\n",
              "\n",
              "          const docLinkHtml = 'Like what you see? Visit the ' +\n",
              "            '<a target=\"_blank\" href=https://colab.research.google.com/notebooks/data_table.ipynb>data table notebook</a>'\n",
              "            + ' to learn more about interactive tables.';\n",
              "          element.innerHTML = '';\n",
              "          dataTable['output_type'] = 'display_data';\n",
              "          await google.colab.output.renderOutput(dataTable, element);\n",
              "          const docLink = document.createElement('div');\n",
              "          docLink.innerHTML = docLinkHtml;\n",
              "          element.appendChild(docLink);\n",
              "        }\n",
              "      </script>\n",
              "    </div>\n",
              "  </div>\n",
              "  "
            ]
          },
          "metadata": {},
          "execution_count": 138
        }
      ],
      "source": [
        "#display data\n",
        "data.head()"
      ]
    },
    {
      "cell_type": "code",
      "execution_count": 139,
      "metadata": {
        "colab": {
          "base_uri": "https://localhost:8080/"
        },
        "id": "y3F4x3H-XUzu",
        "outputId": "8c7caec6-65e2-4884-8af2-334fa5f69c6f"
      },
      "outputs": [
        {
          "output_type": "stream",
          "name": "stdout",
          "text": [
            "Features names: ['gender', 'age', 'hypertension', 'heart_disease', 'ever_married', 'work_type', 'Residence_type', 'avg_glucose_level', 'bmi', 'smoking_status']\n",
            "Target names: ['no', 'yes']\n"
          ]
        }
      ],
      "source": [
        "#get features names and target names\n",
        "features_names = data.columns[0:-1].tolist()\n",
        "target_names = ['no', 'yes']\n",
        "print(f'Features names: {features_names}')\n",
        "print(f'Target names: {target_names}')"
      ]
    },
    {
      "cell_type": "code",
      "execution_count": 140,
      "metadata": {
        "colab": {
          "base_uri": "https://localhost:8080/"
        },
        "id": "P9KUwmOy4rez",
        "outputId": "1738f467-dace-497d-ab61-5f54d2dfd1af"
      },
      "outputs": [
        {
          "output_type": "stream",
          "name": "stdout",
          "text": [
            "Features shape: (5110, 10)\n",
            "Target shape: (5110,)\n"
          ]
        }
      ],
      "source": [
        "#Separate features data and labels data\n",
        "features = data.values[:,0:-1]\n",
        "target = data.values[:,-1]\n",
        "print(f'Features shape: {features.shape}')\n",
        "print(f'Target shape: {target.shape}')"
      ]
    },
    {
      "cell_type": "code",
      "execution_count": 141,
      "metadata": {
        "colab": {
          "base_uri": "https://localhost:8080/"
        },
        "id": "26H64Ut1WzSz",
        "outputId": "6174a410-aede-4e94-c808-796f3093c9fe"
      },
      "outputs": [
        {
          "output_type": "stream",
          "name": "stdout",
          "text": [
            "Features after oversampling shape: (9722, 10)\n",
            "Target after oversampling shape: (9722,)\n"
          ]
        }
      ],
      "source": [
        "#Resampling with Oversampling Data\n",
        "smote = SMOTE(random_state=1)\n",
        "features_resampled, target_resampled = smote.fit_resample(features, target)\n",
        "print(f'Features after oversampling shape: {features_resampled.shape}')\n",
        "print(f'Target after oversampling shape: {target_resampled.shape}')"
      ]
    },
    {
      "cell_type": "code",
      "execution_count": 142,
      "metadata": {
        "id": "uMOwzqz7W2Nq",
        "colab": {
          "base_uri": "https://localhost:8080/",
          "height": 298
        },
        "outputId": "b0b042a8-abeb-453d-8833-7a99e9594145"
      },
      "outputs": [
        {
          "output_type": "execute_result",
          "data": {
            "text/plain": [
              "Text(0.5, 1.0, 'stroke')"
            ]
          },
          "metadata": {},
          "execution_count": 142
        },
        {
          "output_type": "display_data",
          "data": {
            "text/plain": [
              "<Figure size 432x288 with 1 Axes>"
            ],
            "image/png": "[encoded data removed]"
          },
          "metadata": {
            "needs_background": "light"
          }
        }
      ],
      "source": [
        "#Display the distribution of data target\n",
        "plt.hist(target_resampled, bins=3)\n",
        "plt.title(data.columns[-1])"
      ]
    },
    {
      "cell_type": "markdown",
      "metadata": {
        "id": "20Ta6NgNyJmQ"
      },
      "source": [
        "##**Classification: k-Nearest Neighbors (KNN)**"
      ]
    },
    {
      "cell_type": "markdown",
      "metadata": {
        "id": "YRCDciUS4ZzW"
      },
      "source": [
        "###**Scenario 1**"
      ]
    },
    {
      "cell_type": "code",
      "execution_count": 143,
      "metadata": {
        "id": "SAF9qVubHceK",
        "colab": {
          "base_uri": "https://localhost:8080/"
        },
        "outputId": "955936bf-2a5a-4c00-cfc4-0b6032b71b9e"
      },
      "outputs": [
        {
          "output_type": "stream",
          "name": "stdout",
          "text": [
            "xtrain shape: (3577, 10)\n",
            "ytrain shape: (3577,)\n",
            "xtest shape: (1533, 10)\n",
            "ytest shape: (1533,)\n"
          ]
        }
      ],
      "source": [
        "#split data into training data and testing data\n",
        "xtrain_knn, xtest_knn, ytrain_knn, ytest_knn = train_test_split(features, target, test_size=0.3, stratify=target,  random_state=1)\n",
        "print(f'xtrain shape: {xtrain_knn.shape}')\n",
        "print(f'ytrain shape: {ytrain_knn.shape}')\n",
        "print(f'xtest shape: {xtest_knn.shape}')\n",
        "print(f'ytest shape: {ytest_knn.shape}')"
      ]
    },
    {
      "cell_type": "code",
      "execution_count": 144,
      "metadata": {
        "id": "46xoBlP-K59R",
        "colab": {
          "base_uri": "https://localhost:8080/"
        },
        "outputId": "acc32135-03c9-4436-ee73-699525b9199b"
      },
      "outputs": [
        {
          "output_type": "stream",
          "name": "stdout",
          "text": [
            "Drop Outliers - Successfully\n",
            "Shape: (Feature(3577, 10) Target(3577,) => Feature(2743, 10) Target(2743,))\n",
            "Standard Scaling - Successfully\n"
          ]
        }
      ],
      "source": [
        "#Preprocessing Data\n",
        "xtrain_knn, ytrain_knn = drop_outliers(xtrain_knn, ytrain_knn)\n",
        "xtrain_knn, xtest_knn = standard_scaler(xtrain_knn, xtest_knn)"
      ]
    },
    {
      "cell_type": "code",
      "execution_count": 145,
      "metadata": {
        "id": "EzZpAFM47NvB",
        "colab": {
          "base_uri": "https://localhost:8080/"
        },
        "outputId": "00a3d543-8a54-4a80-9c29-e6261134d83b"
      },
      "outputs": [
        {
          "output_type": "stream",
          "name": "stdout",
          "text": [
            "k: 52, accuracy: 95.1076%\n"
          ]
        }
      ],
      "source": [
        "#training with k = sqrt(n)\n",
        "k = round(math.sqrt(xtrain_knn.shape[0]))\n",
        "knn = KNeighborsClassifier(n_neighbors=k)\n",
        "knn.fit(xtrain_knn, ytrain_knn)\n",
        "ypred_knn = knn.predict(xtest_knn)\n",
        "acc = 100*accuracy_score(ytest_knn, ypred_knn)\n",
        "print(f'k: {k}, accuracy: {acc:g}%')"
      ]
    },
    {
      "cell_type": "code",
      "execution_count": 146,
      "metadata": {
        "id": "Q7EsWxwSLKxk",
        "colab": {
          "base_uri": "https://localhost:8080/",
          "height": 314
        },
        "outputId": "5f744e54-b2e5-445e-db7e-4ad85737e3fc"
      },
      "outputs": [
        {
          "output_type": "stream",
          "name": "stdout",
          "text": [
            "Highest mean accuracy:\n",
            "k: 6, accuracy: 95.1076%\n"
          ]
        },
        {
          "output_type": "display_data",
          "data": {
            "text/plain": [
              "<Figure size 936x288 with 1 Axes>"
            ],
            "image/png": "[encoded data removed]"
          },
          "metadata": {
            "needs_background": "light"
          }
        }
      ],
      "source": [
        "#training with k = [1,54]\n",
        "list_acc = []\n",
        "rangeK = range(1,55)\n",
        "for k in rangeK:\n",
        "  knn = KNeighborsClassifier(n_neighbors=k)\n",
        "  knn.fit(xtrain_knn, ytrain_knn)\n",
        "  ypred_knn = knn.predict(xtest_knn)\n",
        "  acc = 100*accuracy_score(ytest_knn, ypred_knn)\n",
        "  list_acc.append(acc)\n",
        "\n",
        "print(f'Highest mean accuracy:\\nk: {list_acc.index(max(list_acc))+1}, accuracy: {max(list_acc):g}%')\n",
        "plt.figure(figsize=(13,4))\n",
        "plt.plot(rangeK, list_acc, '-*')\n",
        "plt.xticks(rangeK)\n",
        "plt.xlabel('k')\n",
        "plt.ylabel('Accuracy (%)')\n",
        "plt.show()"
      ]
    },
    {
      "cell_type": "code",
      "execution_count": 147,
      "metadata": {
        "id": "I-MIYml4AtD4",
        "colab": {
          "base_uri": "https://localhost:8080/"
        },
        "outputId": "7a652f76-b3b4-4e72-e113-a8159c9a33f2"
      },
      "outputs": [
        {
          "output_type": "stream",
          "name": "stdout",
          "text": [
            "Accuracy: 95.1076%\n"
          ]
        }
      ],
      "source": [
        "#training with k = 6\n",
        "knn = KNeighborsClassifier(n_neighbors=6)\n",
        "knn.fit(xtrain_knn, ytrain_knn)\n",
        "ypred_knn = knn.predict(xtest_knn)\n",
        "acc = 100*accuracy_score(ytest_knn, ypred_knn)\n",
        "print(f'Accuracy: {acc:g}%')"
      ]
    },
    {
      "cell_type": "code",
      "execution_count": 148,
      "metadata": {
        "id": "4pkWGYVte81x",
        "colab": {
          "base_uri": "https://localhost:8080/"
        },
        "outputId": "675c60ae-dd26-485b-8ff7-c89051b286d8"
      },
      "outputs": [
        {
          "output_type": "stream",
          "name": "stdout",
          "text": [
            "Confusion Matrix:\n",
            "[[1458    0]\n",
            " [  75    0]]\n",
            "\n",
            "Normalized Confusion Matrix:\n",
            "[[1. 0.]\n",
            " [1. 0.]]\n",
            "\n",
            "Classification Report :\n",
            "              precision    recall  f1-score   support\n",
            "\n",
            "          no       0.95      1.00      0.97      1458\n",
            "         yes       0.00      0.00      0.00        75\n",
            "\n",
            "    accuracy                           0.95      1533\n",
            "   macro avg       0.48      0.50      0.49      1533\n",
            "weighted avg       0.90      0.95      0.93      1533\n",
            "\n"
          ]
        }
      ],
      "source": [
        "#Display Confusion Matrix and Classification Report\n",
        "display_cm(ytest_knn, ypred_knn)\n",
        "display_cr(ytest_knn, ypred_knn, target_names)"
      ]
    },
    {
      "cell_type": "code",
      "execution_count": 149,
      "metadata": {
        "id": "GmEJJSkZMDlY",
        "colab": {
          "base_uri": "https://localhost:8080/"
        },
        "outputId": "97aafebb-af66-4e3f-8204-9705a0c611b1"
      },
      "outputs": [
        {
          "output_type": "stream",
          "name": "stdout",
          "text": [
            "xtrain shape: (2044, 10)\n",
            "ytrain shape: (2044,)\n",
            "xval shape: (1533, 10)\n",
            "yval shape: (1533,)\n",
            "xtest shape: (1533, 10)\n",
            "ytest shape: (1533,)\n"
          ]
        }
      ],
      "source": [
        "#split data into trainding ata, validation data and testing data\n",
        "xtrain_knn, xtest_knn, ytrain_knn, ytest_knn = train_test_split(features, target, test_size=0.3, stratify=target, random_state=1)\n",
        "xtrain_knn, xval_knn, ytrain_knn, yval_knn = train_test_split(xtrain_knn, ytrain_knn ,test_size=1533/3577, stratify=ytrain_knn, random_state=1)\n",
        "print(f'xtrain shape: {xtrain_knn.shape}')\n",
        "print(f'ytrain shape: {ytrain_knn.shape}')\n",
        "print(f'xval shape: {xval_knn.shape}')\n",
        "print(f'yval shape: {yval_knn.shape}')\n",
        "print(f'xtest shape: {xtest_knn.shape}')\n",
        "print(f'ytest shape: {ytest_knn.shape}')"
      ]
    },
    {
      "cell_type": "code",
      "execution_count": 150,
      "metadata": {
        "id": "xV3cexweTBRa",
        "colab": {
          "base_uri": "https://localhost:8080/"
        },
        "outputId": "6aac61e0-2a1b-4002-b054-23c6892da6b3"
      },
      "outputs": [
        {
          "output_type": "stream",
          "name": "stdout",
          "text": [
            "Drop Outliers - Successfully\n",
            "Shape: (Feature(2044, 10) Target(2044,) => Feature(1556, 10) Target(1556,))\n",
            "Standard Scaling - Successfully\n",
            "Standard Scaling - Successfully\n"
          ]
        }
      ],
      "source": [
        "#Preprocessing Data\n",
        "xtrain_knn, ytrain_knn = drop_outliers(xtrain_knn, ytrain_knn)\n",
        "_, xtest_knn = standard_scaler(xtrain_knn, xtest_knn)\n",
        "xtrain_knn, xval_knn = standard_scaler(xtrain_knn, xval_knn)"
      ]
    },
    {
      "cell_type": "code",
      "execution_count": 151,
      "metadata": {
        "id": "Yg4AFNA0Mevn",
        "colab": {
          "base_uri": "https://localhost:8080/",
          "height": 364
        },
        "outputId": "5e796e1c-83d6-43c1-a8b6-e58d6a000412"
      },
      "outputs": [
        {
          "output_type": "stream",
          "name": "stdout",
          "text": [
            "Best validation score:\n",
            "k: 5, accuracy: 95.1076%\n",
            "Best testing score:\n",
            "k: 6, accuracy: 95.1076%\n"
          ]
        },
        {
          "output_type": "display_data",
          "data": {
            "text/plain": [
              "<Figure size 576x288 with 1 Axes>"
            ],
            "image/png": "[encoded data removed]"
          },
          "metadata": {
            "needs_background": "light"
          }
        }
      ],
      "source": [
        "#training with k = [1,11]\n",
        "list_acc_val = []\n",
        "list_acc_test = []\n",
        "rangeK = range(1,11)\n",
        "for k in rangeK:\n",
        "  #training\n",
        "  knn = KNeighborsClassifier(n_neighbors=k)\n",
        "  knn.fit(xtrain_knn, ytrain_knn)\n",
        "  #validation\n",
        "  ypred_knn = knn.predict(xval_knn)\n",
        "  acc_val = 100*accuracy_score(yval_knn, ypred_knn)\n",
        "  list_acc_val.append(acc_val)\n",
        "  #testing\n",
        "  ypred_knn = knn.predict(xtest_knn)\n",
        "  acc_test = 100*accuracy_score(ytest_knn, ypred_knn)\n",
        "  list_acc_test.append(acc_test)\n",
        "\n",
        "\n",
        "print(f'Best validation score:\\nk: {list_acc_val.index(max(list_acc_val))+1}, accuracy: {max(list_acc_val):g}%')\n",
        "print(f'Best testing score:\\nk: {list_acc_test.index(max(list_acc_test))+1}, accuracy: {max(list_acc_test):g}%')\n",
        "plt.figure(figsize=(8,4))\n",
        "plt.plot(rangeK, list_acc_val, 'r-*')\n",
        "plt.plot(rangeK, list_acc_test, 'b-*')\n",
        "plt.xticks(rangeK)\n",
        "plt.xlabel('k')\n",
        "plt.ylabel('Accuracy (%)')\n",
        "plt.title('Train, Validation, Test Split')\n",
        "plt.show()"
      ]
    },
    {
      "cell_type": "code",
      "execution_count": 152,
      "metadata": {
        "colab": {
          "base_uri": "https://localhost:8080/",
          "height": 330
        },
        "id": "blaZIVn8htVs",
        "outputId": "1dde2dbf-3e70-40fe-ee0f-08861962e60c"
      },
      "outputs": [
        {
          "output_type": "stream",
          "name": "stdout",
          "text": [
            "Highest mean accuracy:\n",
            "k: 18, accuracy: 95.1076%\n"
          ]
        },
        {
          "output_type": "display_data",
          "data": {
            "text/plain": [
              "<Figure size 576x288 with 1 Axes>"
            ],
            "image/png": "[encoded data removed]"
          },
          "metadata": {
            "needs_background": "light"
          }
        }
      ],
      "source": [
        "#Stratified Holdout\n",
        "sss = list(StratifiedShuffleSplit(n_splits=30, test_size=0.3, random_state=1).split(features, target))\n",
        "list_avg_acc = []\n",
        "rangeK = range(1,21)\n",
        "for k in rangeK:\n",
        "    knn = KNeighborsClassifier(n_neighbors=k)\n",
        "    acc = cross_val_score(knn, features, target, cv=sss)\n",
        "    list_avg_acc.append(100*acc.mean())\n",
        "\n",
        "print(f'Highest mean accuracy:\\nk: {list_avg_acc.index(max(list_avg_acc))+1}, accuracy: {max(list_avg_acc):g}%')\n",
        "plt.figure(figsize=(8,4))\n",
        "plt.plot(rangeK, list_avg_acc, '-o')\n",
        "plt.xticks(rangeK)\n",
        "plt.xlabel('k')\n",
        "plt.ylabel('Accuracy (%)')\n",
        "plt.title('Stratified Repeated Holdout')\n",
        "plt.show()"
      ]
    },
    {
      "cell_type": "code",
      "execution_count": 153,
      "metadata": {
        "colab": {
          "base_uri": "https://localhost:8080/",
          "height": 330
        },
        "id": "CFM-UiUYQR4X",
        "outputId": "c4722b18-9ea7-4cfb-bda0-2905d1c302e9"
      },
      "outputs": [
        {
          "output_type": "stream",
          "name": "stdout",
          "text": [
            "Highest mean accuracy:\n",
            "k: 14, accuracy: 95.1279%\n"
          ]
        },
        {
          "output_type": "display_data",
          "data": {
            "text/plain": [
              "<Figure size 576x288 with 1 Axes>"
            ],
            "image/png": "[encoded data removed]"
          },
          "metadata": {
            "needs_background": "light"
          }
        }
      ],
      "source": [
        "#K-Fold Cross Validation\n",
        "list_avg_acc = []\n",
        "rangeK = range(1,21)\n",
        "for k in rangeK:\n",
        "    knn = KNeighborsClassifier(n_neighbors=k)\n",
        "    acc = cross_val_score(knn, features, target, cv=30)\n",
        "    list_avg_acc.append(100*acc.mean())\n",
        "\n",
        "print(f'Highest mean accuracy:\\nk: {list_avg_acc.index(max(list_avg_acc))+1}, accuracy: {max(list_avg_acc):g}%')\n",
        "plt.figure(figsize=(8,4))\n",
        "plt.plot(rangeK, list_avg_acc, '-*')\n",
        "plt.xticks(rangeK)\n",
        "plt.xlabel('k')\n",
        "plt.ylabel('Accuracy (%)')\n",
        "plt.title('K-Fold Cross Validation')\n",
        "plt.show()"
      ]
    },
    {
      "cell_type": "markdown",
      "metadata": {
        "id": "4TJyGFZaOvXK"
      },
      "source": [
        "###**Scenario 2**"
      ]
    },
    {
      "cell_type": "code",
      "execution_count": 154,
      "metadata": {
        "colab": {
          "base_uri": "https://localhost:8080/"
        },
        "id": "_xXaW-F33_Ur",
        "outputId": "827b1c62-a6be-4b65-cda7-bd4d749fdec9"
      },
      "outputs": [
        {
          "output_type": "stream",
          "name": "stdout",
          "text": [
            "xtrain shape: (3577, 10)\n",
            "ytrain shape: (3577,)\n",
            "xtest shape: (1533, 10)\n",
            "ytest shape: (1533,)\n"
          ]
        }
      ],
      "source": [
        "#split data into training data and testing data\n",
        "xtrain_knn, xtest_knn, ytrain_knn, ytest_knn = train_test_split(features, target, test_size=0.3, stratify=target, random_state=1)\n",
        "print(f'xtrain shape: {xtrain_knn.shape}')\n",
        "print(f'ytrain shape: {ytrain_knn.shape}')\n",
        "print(f'xtest shape: {xtest_knn.shape}')\n",
        "print(f'ytest shape: {ytest_knn.shape}')"
      ]
    },
    {
      "cell_type": "code",
      "execution_count": 155,
      "metadata": {
        "colab": {
          "base_uri": "https://localhost:8080/"
        },
        "id": "Sb4Ql1Gr3_QM",
        "outputId": "50df668f-a44a-448b-eeab-6363056e2a0c"
      },
      "outputs": [
        {
          "output_type": "stream",
          "name": "stdout",
          "text": [
            "Standard Scaling - Successfully\n"
          ]
        }
      ],
      "source": [
        "#Preprocessing Data\n",
        "xtrain_knn, xtest_knn = standard_scaler(xtrain_knn, xtest_knn)"
      ]
    },
    {
      "cell_type": "code",
      "execution_count": 156,
      "metadata": {
        "colab": {
          "base_uri": "https://localhost:8080/"
        },
        "id": "NJxNkGXs6DdS",
        "outputId": "dae639e8-ac31-4653-e4bc-f28bd6a89e54"
      },
      "outputs": [
        {
          "output_type": "stream",
          "name": "stdout",
          "text": [
            "P-value         : [7.66348373e-01 1.18805646e-51 6.09045104e-12 1.33783755e-16\n",
            " 1.33570385e-10 4.40009038e-04 6.82175845e-01 1.47047684e-13\n",
            " 2.01461271e-02 4.37292998e-06]\n",
            "all columns     : [0, 1, 2, 3, 4, 5, 6, 7, 8, 9]\n",
            "Selected columns: [1, 2, 3, 4, 7, 9]\n"
          ]
        }
      ],
      "source": [
        "#Feature Selection\n",
        "x2, pval = f_classif(xtrain_knn, ytrain_knn)\n",
        "selected_col = np.where(pval<1.e-5)[0]\n",
        "\n",
        "xtrain_knn_selected = xtrain_knn[:, selected_col]\n",
        "xtest_knn_selected = xtest_knn[:, selected_col]\n",
        "\n",
        "print(f'P-value         : {pval}')\n",
        "print(f'all columns     : {[*range(len(xtrain_knn[1,:]))]}')\n",
        "print(f'Selected columns: {selected_col.tolist()}')"
      ]
    },
    {
      "cell_type": "code",
      "execution_count": 157,
      "metadata": {
        "colab": {
          "base_uri": "https://localhost:8080/"
        },
        "id": "Zl0jjMvi8f-g",
        "outputId": "2bcf9543-1d72-4ee1-9f60-7df06963e81e"
      },
      "outputs": [
        {
          "output_type": "stream",
          "name": "stdout",
          "text": [
            "PCs 1, accuracy: 94.5858%\n",
            "PCs 2, accuracy: 94.7815%\n",
            "PCs 3, accuracy: 94.7162%\n",
            "PCs 4, accuracy: 94.4553%\n",
            "PCs 5, accuracy: 94.5858%\n",
            "PCs 6, accuracy: 94.5858%\n",
            "PCs 7, accuracy: 94.4553%\n",
            "PCs 8, accuracy: 94.5205%\n",
            "PCs 9, accuracy: 94.3901%\n",
            "PCs 10, accuracy: 94.5205%\n",
            "Optimum selected PCs: 2\n",
            "Maximum accuracy: 94.7815%\n"
          ]
        }
      ],
      "source": [
        "#Dimentional Reduction without Feature Selection\n",
        "r = 1\n",
        "max_acc = 0\n",
        "for i in range(1,len(xtrain_knn[1,:])+1):\n",
        "  pca = PCA(i)\n",
        "  ztrain_knn = pca.fit_transform(xtrain_knn)\n",
        "  ztest_knn = pca.transform(xtest_knn)\n",
        "  knn = KNeighborsClassifier()\n",
        "  knn.fit(ztrain_knn, ytrain_knn)\n",
        "  ypred_knn = knn.predict(ztest_knn)\n",
        "  acc = 100*accuracy_score(ytest_knn, ypred_knn)\n",
        "  print(f'PCs {i}, accuracy: {acc:g}%')\n",
        "  if(acc>max_acc):\n",
        "    r = i\n",
        "    max_acc = acc\n",
        "print(f'Optimum selected PCs: {r}')\n",
        "print(f'Maximum accuracy: {max_acc:g}%')"
      ]
    },
    {
      "cell_type": "code",
      "execution_count": 158,
      "metadata": {
        "colab": {
          "base_uri": "https://localhost:8080/"
        },
        "id": "vAl7JfXq-CdM",
        "outputId": "ff0df224-bc7e-467d-f235-ec85f409018b"
      },
      "outputs": [
        {
          "output_type": "stream",
          "name": "stdout",
          "text": [
            "PCs 1, accuracy: 94.8467%\n",
            "PCs 2, accuracy: 94.5205%\n",
            "PCs 3, accuracy: 94.7162%\n",
            "PCs 4, accuracy: 94.3901%\n",
            "PCs 5, accuracy: 94.4553%\n",
            "PCs 6, accuracy: 94.4553%\n",
            "Optimum selected PCs: 1\n",
            "Maximum accuracy: 94.8467%\n"
          ]
        }
      ],
      "source": [
        "#Dimentional Reduction with Feature Selection\n",
        "r = 1\n",
        "max_acc = 0\n",
        "for i in range(1,len(selected_col)+1):\n",
        "  pca = PCA(i)\n",
        "  ztrain_knn = pca.fit_transform(xtrain_knn_selected)\n",
        "  ztest_knn = pca.transform(xtest_knn_selected)\n",
        "  knn = KNeighborsClassifier()\n",
        "  knn.fit(ztrain_knn, ytrain_knn)\n",
        "  ypred_knn = knn.predict(ztest_knn)\n",
        "  acc = 100*accuracy_score(ytest_knn, ypred_knn)\n",
        "  print(f'PCs {i}, accuracy: {acc:g}%')\n",
        "  if(acc>max_acc):\n",
        "    r = i\n",
        "    max_acc = acc\n",
        "print(f'Optimum selected PCs: {r}')\n",
        "print(f'Maximum accuracy: {max_acc:g}%')"
      ]
    },
    {
      "cell_type": "code",
      "execution_count": 159,
      "metadata": {
        "colab": {
          "base_uri": "https://localhost:8080/",
          "height": 314
        },
        "id": "NyjgEM0D8RtW",
        "outputId": "4bc2d1be-3a12-4413-c64b-218e95686eec"
      },
      "outputs": [
        {
          "output_type": "stream",
          "name": "stdout",
          "text": [
            "Highest accuracy:\n",
            "k: 6, accuracy: 95.1076%\n"
          ]
        },
        {
          "output_type": "display_data",
          "data": {
            "text/plain": [
              "<Figure size 936x288 with 1 Axes>"
            ],
            "image/png": "[encoded data removed]"
          },
          "metadata": {
            "needs_background": "light"
          }
        }
      ],
      "source": [
        "#training with k = [1,20] and PCA(1) with Feature Selection\n",
        "list_acc = []\n",
        "rangeK = range(1,21)\n",
        "for k in rangeK:\n",
        "  pca = PCA(1)\n",
        "  ztrain_knn = pca.fit_transform(xtrain_knn_selected)\n",
        "  ztest_nb = pca.transform(xtest_knn_selected)\n",
        "  knn = KNeighborsClassifier(n_neighbors=k)\n",
        "  knn.fit(ztrain_knn, ytrain_knn)\n",
        "  ypred_knn = knn.predict(ztest_nb)\n",
        "  acc = 100*accuracy_score(ytest_knn, ypred_knn)\n",
        "  list_acc.append(acc)\n",
        "\n",
        "print(f'Highest accuracy:\\nk: {list_acc.index(max(list_acc))+1}, accuracy: {max(list_acc):g}%')\n",
        "plt.figure(figsize=(13,4))\n",
        "plt.plot(rangeK, list_acc, '-*')\n",
        "plt.xticks(rangeK)\n",
        "plt.xlabel('k')\n",
        "plt.ylabel('Accuracy (%)')\n",
        "plt.show()"
      ]
    },
    {
      "cell_type": "code",
      "execution_count": 160,
      "metadata": {
        "colab": {
          "base_uri": "https://localhost:8080/"
        },
        "id": "kCG0apkxgjOZ",
        "outputId": "64d637f5-8180-4963-8077-1fe0b2941c40"
      },
      "outputs": [
        {
          "output_type": "stream",
          "name": "stdout",
          "text": [
            "Accuracy: 95.1076%\n"
          ]
        }
      ],
      "source": [
        "#training with k = 6 and PCA(1) with Feature Selection\n",
        "pca = PCA(1)\n",
        "ztrain_knn = pca.fit_transform(xtrain_knn_selected)\n",
        "ztest_nb = pca.transform(xtest_knn_selected)\n",
        "knn = KNeighborsClassifier(n_neighbors=6)\n",
        "knn.fit(ztrain_knn, ytrain_knn)\n",
        "ypred_knn = knn.predict(ztest_nb)\n",
        "acc = 100*accuracy_score(ytest_knn, ypred_knn)\n",
        "print(f'Accuracy: {acc:g}%')"
      ]
    },
    {
      "cell_type": "code",
      "execution_count": 161,
      "metadata": {
        "colab": {
          "base_uri": "https://localhost:8080/"
        },
        "id": "EyNwga5hgrwp",
        "outputId": "e8b113c2-f27d-4d16-b5b0-53c7b9eed6c9"
      },
      "outputs": [
        {
          "output_type": "stream",
          "name": "stdout",
          "text": [
            "Confusion Matrix:\n",
            "[[1458    0]\n",
            " [  75    0]]\n",
            "\n",
            "Normalized Confusion Matrix:\n",
            "[[1. 0.]\n",
            " [1. 0.]]\n",
            "\n",
            "Classification Report :\n",
            "              precision    recall  f1-score   support\n",
            "\n",
            "          no       0.95      1.00      0.97      1458\n",
            "         yes       0.00      0.00      0.00        75\n",
            "\n",
            "    accuracy                           0.95      1533\n",
            "   macro avg       0.48      0.50      0.49      1533\n",
            "weighted avg       0.90      0.95      0.93      1533\n",
            "\n"
          ]
        }
      ],
      "source": [
        "#Display Confusion Matrix and Classification Report\n",
        "display_cm(ytest_knn, ypred_knn)\n",
        "display_cr(ytest_knn, ypred_knn, target_names)"
      ]
    },
    {
      "cell_type": "markdown",
      "metadata": {
        "id": "Y1cgme2uGWik"
      },
      "source": [
        "###**Scenario 3**"
      ]
    },
    {
      "cell_type": "code",
      "execution_count": 162,
      "metadata": {
        "colab": {
          "base_uri": "https://localhost:8080/"
        },
        "id": "y-B6zbyeb45e",
        "outputId": "5f319a90-58ac-40df-cf8f-4e5997acb98a"
      },
      "outputs": [
        {
          "output_type": "stream",
          "name": "stdout",
          "text": [
            "xtrain shape: (6805, 10)\n",
            "ytrain shape: (6805,)\n",
            "xtest shape: (2917, 10)\n",
            "ytest shape: (2917,)\n"
          ]
        }
      ],
      "source": [
        "#split data into training data and testing data\n",
        "xtrain_knn, xtest_knn, ytrain_knn, ytest_knn = train_test_split(features_resampled, target_resampled, test_size=0.3, stratify=target_resampled, random_state=1)\n",
        "print(f'xtrain shape: {xtrain_knn.shape}')\n",
        "print(f'ytrain shape: {ytrain_knn.shape}')\n",
        "print(f'xtest shape: {xtest_knn.shape}')\n",
        "print(f'ytest shape: {ytest_knn.shape}')"
      ]
    },
    {
      "cell_type": "code",
      "execution_count": 163,
      "metadata": {
        "colab": {
          "base_uri": "https://localhost:8080/"
        },
        "id": "p0QFifTicGN8",
        "outputId": "31b70db3-464e-484d-907e-19d9c577081b"
      },
      "outputs": [
        {
          "output_type": "stream",
          "name": "stdout",
          "text": [
            "Standard Scaling - Successfully\n"
          ]
        }
      ],
      "source": [
        "#Preprocessing Data\n",
        "xtrain_knn, xtest_knn = standard_scaler(xtrain_knn, xtest_knn)"
      ]
    },
    {
      "cell_type": "code",
      "execution_count": 164,
      "metadata": {
        "colab": {
          "base_uri": "https://localhost:8080/"
        },
        "id": "nf0ALRWHcPrY",
        "outputId": "3279b726-3c44-4c0d-b3ff-c7d1fd1df120"
      },
      "outputs": [
        {
          "output_type": "stream",
          "name": "stdout",
          "text": [
            "P-value         : [2.23971349e-003 0.00000000e+000 1.08697163e-102 3.59344817e-093\n",
            " 2.19689849e-156 6.20139603e-046 1.96264206e-004 3.80445959e-092\n",
            " 1.31276965e-012 5.89347243e-039]\n",
            "all columns     : [0, 1, 2, 3, 4, 5, 6, 7, 8, 9]\n",
            "Selected columns: [1, 2, 3, 4, 7]\n"
          ]
        }
      ],
      "source": [
        "#Feature Selection\n",
        "x2, pval = f_classif(xtrain_knn, ytrain_knn)\n",
        "selected_col = np.where(pval<1.e-50)[0]\n",
        "\n",
        "xtrain_knn_selected = xtrain_knn[:, selected_col]\n",
        "xtest_knn_selected = xtest_knn[:, selected_col]\n",
        "\n",
        "print(f'P-value         : {pval}')\n",
        "print(f'all columns     : {[*range(len(xtrain_knn[1,:]))]}')\n",
        "print(f'Selected columns: {selected_col.tolist()}')"
      ]
    },
    {
      "cell_type": "code",
      "execution_count": 165,
      "metadata": {
        "colab": {
          "base_uri": "https://localhost:8080/",
          "height": 314
        },
        "id": "FGJw7SJefgst",
        "outputId": "20cd8a9a-7be8-4f46-9bf1-bc1c55fb6ae7"
      },
      "outputs": [
        {
          "output_type": "stream",
          "name": "stdout",
          "text": [
            "Highest accuracy:\n",
            "k: 1, accuracy: 95.5091%\n"
          ]
        },
        {
          "output_type": "display_data",
          "data": {
            "text/plain": [
              "<Figure size 936x288 with 1 Axes>"
            ],
            "image/png": "[encoded data removed]"
          },
          "metadata": {
            "needs_background": "light"
          }
        }
      ],
      "source": [
        "#training with k = [1,20] without Dimentional Reduction and Feature Selection\n",
        "list_acc = []\n",
        "rangeK = range(1,21)\n",
        "for k in rangeK:\n",
        "  knn = KNeighborsClassifier(n_neighbors=k)\n",
        "  knn.fit(xtrain_knn, ytrain_knn)\n",
        "  ypred_knn = knn.predict(xtest_knn)\n",
        "  acc = 100*accuracy_score(ytest_knn, ypred_knn)\n",
        "  list_acc.append(acc)\n",
        "\n",
        "print(f'Highest accuracy:\\nk: {list_acc.index(max(list_acc))+1}, accuracy: {max(list_acc):g}%')\n",
        "plt.figure(figsize=(13,4))\n",
        "plt.plot(rangeK, list_acc, '-*')\n",
        "plt.xticks(rangeK)\n",
        "plt.xlabel('k')\n",
        "plt.ylabel('Accuracy (%)')\n",
        "plt.show()"
      ]
    },
    {
      "cell_type": "code",
      "execution_count": 166,
      "metadata": {
        "colab": {
          "base_uri": "https://localhost:8080/"
        },
        "id": "BwXD8RqacgIf",
        "outputId": "a635716c-9f16-49f9-aeb8-0f59e7f096d4"
      },
      "outputs": [
        {
          "output_type": "stream",
          "name": "stdout",
          "text": [
            "PCs 1, accuracy: 62.8385%\n",
            "PCs 2, accuracy: 67.7751%\n",
            "PCs 3, accuracy: 77.3055%\n",
            "PCs 4, accuracy: 87.6586%\n",
            "PCs 5, accuracy: 90.5725%\n",
            "PCs 6, accuracy: 93.555%\n",
            "PCs 7, accuracy: 95.0977%\n",
            "PCs 8, accuracy: 95.4062%\n",
            "PCs 9, accuracy: 95.6119%\n",
            "PCs 10, accuracy: 95.5091%\n",
            "Optimum selected PCs: 9\n",
            "Maximum accuracy: 95.6119%\n"
          ]
        }
      ],
      "source": [
        "#Dimentional Reduction without Feature Selection\n",
        "r = 1\n",
        "max_acc = 0\n",
        "for i in range(1,len(xtrain_knn[1,:])+1):\n",
        "  pca = PCA(i)\n",
        "  ztrain_knn = pca.fit_transform(xtrain_knn)\n",
        "  ztest_nb = pca.transform(xtest_knn)\n",
        "  knn = KNeighborsClassifier(n_neighbors=1)\n",
        "  knn.fit(ztrain_knn, ytrain_knn)\n",
        "  ypred_knn = knn.predict(ztest_nb)\n",
        "  acc = 100*accuracy_score(ytest_knn, ypred_knn)\n",
        "  print(f'PCs {i}, accuracy: {acc:g}%')\n",
        "  if(acc>max_acc):\n",
        "    r = i\n",
        "    max_acc = acc\n",
        "print(f'Optimum selected PCs: {r}')\n",
        "print(f'Maximum accuracy: {max_acc:g}%')"
      ]
    },
    {
      "cell_type": "code",
      "execution_count": 167,
      "metadata": {
        "colab": {
          "base_uri": "https://localhost:8080/"
        },
        "id": "JRWJpmzNcf70",
        "outputId": "533543b6-f5d4-4b64-8ba2-c8427c43ca62"
      },
      "outputs": [
        {
          "output_type": "stream",
          "name": "stdout",
          "text": [
            "PCs 1, accuracy: 67.0895%\n",
            "PCs 2, accuracy: 77.374%\n",
            "PCs 3, accuracy: 89.6469%\n",
            "PCs 4, accuracy: 91.5324%\n",
            "PCs 5, accuracy: 91.9095%\n",
            "Optimum selected PCs: 5\n",
            "Maximum accuracy: 91.9095%\n"
          ]
        }
      ],
      "source": [
        "#Dimentional Reduction with Feature Selection\n",
        "r = 1\n",
        "max_acc = 0\n",
        "for i in range(1,len(selected_col)+1):\n",
        "  pca = PCA(i)\n",
        "  ztrain_knn = pca.fit_transform(xtrain_knn_selected)\n",
        "  ztest_nb = pca.transform(xtest_knn_selected)\n",
        "  knn = KNeighborsClassifier(n_neighbors=1)\n",
        "  knn.fit(ztrain_knn, ytrain_knn)\n",
        "  ypred_knn = knn.predict(ztest_nb)\n",
        "  acc = 100*accuracy_score(ytest_knn, ypred_knn)\n",
        "  print(f'PCs {i}, accuracy: {acc:g}%')\n",
        "  if(acc>max_acc):\n",
        "    r = i\n",
        "    max_acc = acc\n",
        "print(f'Optimum selected PCs: {r}')\n",
        "print(f'Maximum accuracy: {max_acc:g}%')"
      ]
    },
    {
      "cell_type": "code",
      "execution_count": 168,
      "metadata": {
        "colab": {
          "base_uri": "https://localhost:8080/"
        },
        "id": "1efTucAweaYs",
        "outputId": "e125ebd5-7351-4b94-915e-cee1bcca0b0f"
      },
      "outputs": [
        {
          "output_type": "stream",
          "name": "stdout",
          "text": [
            "Accuracy: 95.6119%\n"
          ]
        }
      ],
      "source": [
        "#training with k = 1 and PCA(9) without Feature Selection\n",
        "pca = PCA(9)\n",
        "ztrain_knn = pca.fit_transform(xtrain_knn)\n",
        "ztest_nb = pca.transform(xtest_knn)\n",
        "knn = KNeighborsClassifier(n_neighbors=1)\n",
        "knn.fit(ztrain_knn, ytrain_knn)\n",
        "ypred_knn = knn.predict(ztest_nb)\n",
        "acc = 100*accuracy_score(ytest_knn, ypred_knn)\n",
        "print(f'Accuracy: {acc:g}%')"
      ]
    },
    {
      "cell_type": "code",
      "execution_count": 169,
      "metadata": {
        "colab": {
          "base_uri": "https://localhost:8080/"
        },
        "id": "23lxAjDGe9ae",
        "outputId": "1c0975bf-1f71-4a51-a65a-ebc94611eef6"
      },
      "outputs": [
        {
          "output_type": "stream",
          "name": "stdout",
          "text": [
            "Confusion Matrix:\n",
            "[[1345  113]\n",
            " [  15 1444]]\n",
            "\n",
            "Normalized Confusion Matrix:\n",
            "[[0.92249657 0.07750343]\n",
            " [0.01028101 0.98971899]]\n",
            "\n",
            "Classification Report :\n",
            "              precision    recall  f1-score   support\n",
            "\n",
            "          no       0.99      0.92      0.95      1458\n",
            "         yes       0.93      0.99      0.96      1459\n",
            "\n",
            "    accuracy                           0.96      2917\n",
            "   macro avg       0.96      0.96      0.96      2917\n",
            "weighted avg       0.96      0.96      0.96      2917\n",
            "\n"
          ]
        }
      ],
      "source": [
        "#Display Confusion Matrix and Classification Report\n",
        "display_cm(ytest_knn, ypred_knn)\n",
        "display_cr(ytest_knn, ypred_knn, target_names)"
      ]
    },
    {
      "cell_type": "code",
      "execution_count": 170,
      "metadata": {
        "colab": {
          "base_uri": "https://localhost:8080/",
          "height": 330
        },
        "id": "lz8dCvR2gGDM",
        "outputId": "08a5ce1e-1419-471f-ea0b-2a26bfbfe3e3"
      },
      "outputs": [
        {
          "output_type": "stream",
          "name": "stdout",
          "text": [
            "Highest mean accuracy: \n",
            "k:2, accuracy:92.6865%\n"
          ]
        },
        {
          "output_type": "display_data",
          "data": {
            "text/plain": [
              "<Figure size 576x288 with 1 Axes>"
            ],
            "image/png": "[encoded data removed]"
          },
          "metadata": {
            "needs_background": "light"
          }
        }
      ],
      "source": [
        "#K-Fold Cross Validation\n",
        "list_avg_acc = []\n",
        "rangeK = range(1,21)\n",
        "for k in rangeK:\n",
        "    knn = KNeighborsClassifier(n_neighbors=k)\n",
        "    acc = cross_val_score(knn, features_resampled, target_resampled, cv=30)\n",
        "    list_avg_acc.append(100*acc.mean())\n",
        "\n",
        "print(f'Highest mean accuracy: \\nk:{list_avg_acc.index(max(list_avg_acc))+1}, accuracy:{max(list_avg_acc):g}%')\n",
        "plt.figure(figsize=(8,4))\n",
        "plt.plot(rangeK, list_avg_acc, '-*')\n",
        "plt.xticks(rangeK)\n",
        "plt.xlabel('k')\n",
        "plt.ylabel('Accuracy (%)')\n",
        "plt.title('K-Fold Cross Validation')\n",
        "plt.show()"
      ]
    },
    {
      "cell_type": "markdown",
      "metadata": {
        "id": "ZgrwXXPR09dQ"
      },
      "source": [
        "##**Classification: Naive Bayes**\n"
      ]
    },
    {
      "cell_type": "markdown",
      "metadata": {
        "id": "3FvNM9Ncn8ap"
      },
      "source": [
        "###**Scenario 1**"
      ]
    },
    {
      "cell_type": "code",
      "execution_count": 171,
      "metadata": {
        "colab": {
          "base_uri": "https://localhost:8080/"
        },
        "id": "CmcpfVvhNwn0",
        "outputId": "06e37e22-00c8-4620-9965-84d578c61dcb"
      },
      "outputs": [
        {
          "output_type": "stream",
          "name": "stdout",
          "text": [
            "xtrain shape: (3577, 10)\n",
            "ytrain shape: (3577,)\n",
            "xtest shape: (1533, 10)\n",
            "ytest shape: (1533,)\n"
          ]
        }
      ],
      "source": [
        "#split data into training data and testing data\n",
        "xtrain_nb, xtest_nb, ytrain_nb, ytest_nb = train_test_split(features, target, test_size=0.3, stratify=target, random_state=1)\n",
        "print(f'xtrain shape: {xtrain_nb.shape}')\n",
        "print(f'ytrain shape: {ytrain_nb.shape}')\n",
        "print(f'xtest shape: {xtest_nb.shape}')\n",
        "print(f'ytest shape: {ytest_nb.shape}')"
      ]
    },
    {
      "cell_type": "code",
      "execution_count": 172,
      "metadata": {
        "colab": {
          "base_uri": "https://localhost:8080/"
        },
        "id": "N4QagS1BkiPp",
        "outputId": "c8e0cebf-83e4-470a-f69b-44d1134ef27f"
      },
      "outputs": [
        {
          "output_type": "stream",
          "name": "stdout",
          "text": [
            "Drop Outliers - Successfully\n",
            "Shape: (Feature(3577, 10) Target(3577,) => Feature(2743, 10) Target(2743,))\n",
            "Standard Scaling - Successfully\n"
          ]
        }
      ],
      "source": [
        "#Preprocessing Data\n",
        "xtrain_nb, ytrain_nb = drop_outliers(xtrain_nb, ytrain_nb)\n",
        "xtrain_nb, xtest_nb = standard_scaler(xtrain_nb, xtest_nb)"
      ]
    },
    {
      "cell_type": "code",
      "execution_count": 173,
      "metadata": {
        "colab": {
          "base_uri": "https://localhost:8080/"
        },
        "id": "UDHpC0Lvk1YX",
        "outputId": "dbc1ed56-4df8-4026-df3c-dc5456567c26"
      },
      "outputs": [
        {
          "output_type": "stream",
          "name": "stdout",
          "text": [
            "Accuracy: 93.8682%\n"
          ]
        }
      ],
      "source": [
        "#training \n",
        "gnb = GaussianNB()\n",
        "gnb.fit(xtrain_nb, ytrain_nb)\n",
        "ypred_nb = gnb.predict(xtest_nb)\n",
        "acc = 100*accuracy_score(ytest_nb, ypred_nb)\n",
        "print(f'Accuracy: {acc:g}%')"
      ]
    },
    {
      "cell_type": "code",
      "execution_count": 174,
      "metadata": {
        "colab": {
          "base_uri": "https://localhost:8080/"
        },
        "id": "4FdZSHOmlL0t",
        "outputId": "8f33c7ab-46ce-45aa-c00b-c3e88ed7aea4"
      },
      "outputs": [
        {
          "output_type": "stream",
          "name": "stdout",
          "text": [
            "Confusion Matrix:\n",
            "[[1435   23]\n",
            " [  71    4]]\n",
            "\n",
            "Normalized Confusion Matrix:\n",
            "[[0.98422497 0.01577503]\n",
            " [0.94666667 0.05333333]]\n",
            "\n",
            "Classification Report :\n",
            "              precision    recall  f1-score   support\n",
            "\n",
            "          no       0.95      0.98      0.97      1458\n",
            "         yes       0.15      0.05      0.08        75\n",
            "\n",
            "    accuracy                           0.94      1533\n",
            "   macro avg       0.55      0.52      0.52      1533\n",
            "weighted avg       0.91      0.94      0.92      1533\n",
            "\n"
          ]
        }
      ],
      "source": [
        "#Display Confusion Matrix and Classification Report\n",
        "display_cm(ytest_nb, ypred_nb)\n",
        "display_cr(ytest_nb, ypred_nb, target_names)"
      ]
    },
    {
      "cell_type": "code",
      "execution_count": 175,
      "metadata": {
        "colab": {
          "base_uri": "https://localhost:8080/"
        },
        "id": "wdaESJKWlt4J",
        "outputId": "2f93d771-76a6-46de-a274-4213759207a6"
      },
      "outputs": [
        {
          "output_type": "stream",
          "name": "stdout",
          "text": [
            "xtrain shape: (2044, 10)\n",
            "ytrain shape: (2044,)\n",
            "xval shape: (1533, 10)\n",
            "yval shape: (1533,)\n",
            "xtest shape: (1533, 10)\n",
            "ytest shape: (1533,)\n"
          ]
        }
      ],
      "source": [
        "#split data into training data, validation data and testing data\n",
        "xtrain_nb, xtest_nb, ytrain_nb, ytest_nb = train_test_split(features, target, test_size=0.3, stratify=target, random_state=1)\n",
        "xtrain_nb, xval_nb, ytrain_nb, yval_nb = train_test_split(xtrain_nb, ytrain_nb ,test_size=1533/3577, stratify=ytrain_nb, random_state=1)\n",
        "print(f'xtrain shape: {xtrain_nb.shape}')\n",
        "print(f'ytrain shape: {ytrain_nb.shape}')\n",
        "print(f'xval shape: {xval_nb.shape}')\n",
        "print(f'yval shape: {yval_nb.shape}')\n",
        "print(f'xtest shape: {xtest_nb.shape}')\n",
        "print(f'ytest shape: {ytest_nb.shape}')"
      ]
    },
    {
      "cell_type": "code",
      "execution_count": 176,
      "metadata": {
        "colab": {
          "base_uri": "https://localhost:8080/"
        },
        "id": "1EzwQy25l_BQ",
        "outputId": "af8ec453-795f-4ee8-ab24-30d78d3c1ca0"
      },
      "outputs": [
        {
          "output_type": "stream",
          "name": "stdout",
          "text": [
            "Drop Outliers - Successfully\n",
            "Shape: (Feature(2044, 10) Target(2044,) => Feature(1556, 10) Target(1556,))\n",
            "Standard Scaling - Successfully\n",
            "Standard Scaling - Successfully\n"
          ]
        }
      ],
      "source": [
        "#Preprocessing Data\n",
        "xtrain_nb, ytrain_nb = drop_outliers(xtrain_nb, ytrain_nb)\n",
        "_, xtest_nb = standard_scaler(xtrain_nb, xtest_nb)\n",
        "xtrain_nb, xval_nb = standard_scaler(xtrain_nb, xval_nb)"
      ]
    },
    {
      "cell_type": "code",
      "execution_count": 177,
      "metadata": {
        "colab": {
          "base_uri": "https://localhost:8080/"
        },
        "id": "wLEHlWCSmN2Y",
        "outputId": "30ff5f27-c46f-49b0-c5fc-d2dffca4ebfa"
      },
      "outputs": [
        {
          "output_type": "stream",
          "name": "stdout",
          "text": [
            "Best validation accuracy: 91.7156%\n",
            "Best testing accuracy: 91.1285%\n"
          ]
        }
      ],
      "source": [
        "#training \n",
        "gnb = GaussianNB()\n",
        "gnb.fit(xtrain_nb, ytrain_nb)\n",
        "#validation\n",
        "ypred_nb = gnb.predict(xval_nb)\n",
        "acc = 100*accuracy_score(yval_nb, ypred_nb)\n",
        "print(f'Best validation accuracy: {acc:g}%')\n",
        "#testing\n",
        "ypred_nb = gnb.predict(xtest_nb)\n",
        "acc = 100*accuracy_score(ytest_nb, ypred_nb)\n",
        "print(f'Best testing accuracy: {acc:g}%')"
      ]
    },
    {
      "cell_type": "code",
      "execution_count": 178,
      "metadata": {
        "colab": {
          "base_uri": "https://localhost:8080/"
        },
        "id": "uWcKfAxLnHkH",
        "outputId": "dd64df7c-bf7d-41af-85b2-d4e8b0348227"
      },
      "outputs": [
        {
          "output_type": "stream",
          "name": "stdout",
          "text": [
            "Highest accuracy: 86.1187%\n"
          ]
        }
      ],
      "source": [
        "#Stratified Holdout\n",
        "sss = list(StratifiedShuffleSplit(n_splits=10, test_size=0.3, random_state=1).split(features, target))\n",
        "\n",
        "gnb = GaussianNB()\n",
        "acc = cross_val_score(gnb, features, target, cv=sss)\n",
        "print(f'Highest accuracy: {100*acc.mean():g}%')"
      ]
    },
    {
      "cell_type": "code",
      "execution_count": 179,
      "metadata": {
        "colab": {
          "base_uri": "https://localhost:8080/"
        },
        "id": "YPG5eV2VnaSL",
        "outputId": "c16655f4-3067-40e1-ef2c-24741a6a8dbd"
      },
      "outputs": [
        {
          "output_type": "stream",
          "name": "stdout",
          "text": [
            "Highest accuracy: 86.0477%\n"
          ]
        }
      ],
      "source": [
        "#K-Fold Cross Validation\n",
        "gnb = GaussianNB()\n",
        "acc = cross_val_score(gnb, features, target, cv=30)\n",
        "print(f'Highest accuracy: {100*acc.mean():g}%')"
      ]
    },
    {
      "cell_type": "markdown",
      "metadata": {
        "id": "ThJ9poVPoA1m"
      },
      "source": [
        "###**Scenario 2**"
      ]
    },
    {
      "cell_type": "code",
      "execution_count": 180,
      "metadata": {
        "colab": {
          "base_uri": "https://localhost:8080/"
        },
        "id": "l-qY9mLroCo-",
        "outputId": "58985bcd-ce28-4932-e355-deb402085481"
      },
      "outputs": [
        {
          "output_type": "stream",
          "name": "stdout",
          "text": [
            "xtrain shape: (3577, 10)\n",
            "ytrain shape: (3577,)\n",
            "xtest shape: (1533, 10)\n",
            "ytest shape: (1533,)\n"
          ]
        }
      ],
      "source": [
        "#split data into training data and testing data\n",
        "xtrain_nb, xtest_nb, ytrain_nb, ytest_nb = train_test_split(features, target, test_size=0.3, stratify=target, random_state=1)\n",
        "print(f'xtrain shape: {xtrain_nb.shape}')\n",
        "print(f'ytrain shape: {ytrain_nb.shape}')\n",
        "print(f'xtest shape: {xtest_nb.shape}')\n",
        "print(f'ytest shape: {ytest_nb.shape}')"
      ]
    },
    {
      "cell_type": "code",
      "execution_count": 181,
      "metadata": {
        "colab": {
          "base_uri": "https://localhost:8080/"
        },
        "id": "ewRFMAIZo7bV",
        "outputId": "5399235a-93d9-44e8-f998-d8cf6a44525f"
      },
      "outputs": [
        {
          "output_type": "stream",
          "name": "stdout",
          "text": [
            "Standard Scaling - Successfully\n"
          ]
        }
      ],
      "source": [
        "#Preprocessing Data\n",
        "xtrain_nb, xtest_nb = standard_scaler(xtrain_nb, xtest_nb)"
      ]
    },
    {
      "cell_type": "code",
      "execution_count": 182,
      "metadata": {
        "colab": {
          "base_uri": "https://localhost:8080/"
        },
        "id": "4UXtABdjo-uK",
        "outputId": "6262a56c-df40-48ba-8eb0-bacff78fb86a"
      },
      "outputs": [
        {
          "output_type": "stream",
          "name": "stdout",
          "text": [
            "P-value         : [7.66348373e-01 1.18805646e-51 6.09045104e-12 1.33783755e-16\n",
            " 1.33570385e-10 4.40009038e-04 6.82175845e-01 1.47047684e-13\n",
            " 2.01461271e-02 4.37292998e-06]\n",
            "all columns     : [0, 1, 2, 3, 4, 5, 6, 7, 8, 9]\n",
            "Selected columns: [1, 2, 3, 4, 7, 9]\n"
          ]
        }
      ],
      "source": [
        "#Feature Selection\n",
        "x2, pval = f_classif(xtrain_nb, ytrain_nb)\n",
        "selected_col = np.where(pval<1.e-5)[0]\n",
        "\n",
        "xtrain_nb_selected = xtrain_nb[:, selected_col]\n",
        "xtest_nb_selected = xtest_nb[:, selected_col]\n",
        "\n",
        "print(f'P-value         : {pval}')\n",
        "print(f'all columns     : {[*range(len(xtrain_nb[1,:]))]}')\n",
        "print(f'Selected columns: {selected_col.tolist()}')"
      ]
    },
    {
      "cell_type": "code",
      "execution_count": 183,
      "metadata": {
        "colab": {
          "base_uri": "https://localhost:8080/"
        },
        "id": "Yl-uqQZrpFuZ",
        "outputId": "8e98f315-5c53-4f6e-b29f-55e41b648ff3"
      },
      "outputs": [
        {
          "output_type": "stream",
          "name": "stdout",
          "text": [
            "PCs 1, accuracy: 95.1076%\n",
            "PCs 2, accuracy: 93.7378%\n",
            "PCs 3, accuracy: 93.6725%\n",
            "PCs 4, accuracy: 92.3679%\n",
            "PCs 5, accuracy: 90.4762%\n",
            "PCs 6, accuracy: 89.3673%\n",
            "PCs 7, accuracy: 89.4325%\n",
            "PCs 8, accuracy: 89.8239%\n",
            "PCs 9, accuracy: 89.8891%\n",
            "PCs 10, accuracy: 89.8891%\n",
            "Optimum selected PCs: 1\n",
            "Maximum accuracy: 95.1076%\n"
          ]
        }
      ],
      "source": [
        "#Dimentional Reduction without Feature Selection\n",
        "r = 1\n",
        "max_acc = 0\n",
        "for i in range(1,len(xtrain_nb[1,:])+1):\n",
        "  pca = PCA(i)\n",
        "  ztrain_nb = pca.fit_transform(xtrain_nb)\n",
        "  ztest_nb = pca.transform(xtest_nb)\n",
        "  gnb = GaussianNB()\n",
        "  gnb.fit(ztrain_nb, ytrain_nb)\n",
        "  ypred_nb = gnb.predict(ztest_nb)\n",
        "  acc = 100*accuracy_score(ytest_nb, ypred_nb)\n",
        "  print(f'PCs {i}, accuracy: {acc:g}%')\n",
        "  if(acc>max_acc):\n",
        "    r = i\n",
        "    max_acc = acc\n",
        "print(f'Optimum selected PCs: {r}')\n",
        "print(f'Maximum accuracy: {max_acc:g}%')"
      ]
    },
    {
      "cell_type": "code",
      "execution_count": 184,
      "metadata": {
        "colab": {
          "base_uri": "https://localhost:8080/"
        },
        "id": "dSzWYNYQpZYF",
        "outputId": "91ea3ffc-10cb-4ae5-c69c-f9056cfc552e"
      },
      "outputs": [
        {
          "output_type": "stream",
          "name": "stdout",
          "text": [
            "PCs 1, accuracy: 95.1076%\n",
            "PCs 2, accuracy: 93.4768%\n",
            "PCs 3, accuracy: 89.8239%\n",
            "PCs 4, accuracy: 89.3673%\n",
            "PCs 5, accuracy: 89.3673%\n",
            "PCs 6, accuracy: 89.4977%\n",
            "Optimum selected PCs: 1\n",
            "Maximum accuracy: 95.1076%\n"
          ]
        }
      ],
      "source": [
        "#Dimentional Reduction with Feature Selection\n",
        "r = 1\n",
        "max_acc = 0\n",
        "for i in range(1,len(selected_col)+1):\n",
        "  pca = PCA(i)\n",
        "  ztrain_nb = pca.fit_transform(xtrain_nb_selected)\n",
        "  ztest_nb = pca.transform(xtest_nb_selected)\n",
        "  gnb = GaussianNB()\n",
        "  gnb.fit(ztrain_nb, ytrain_nb)\n",
        "  ypred_nb = gnb.predict(ztest_nb)\n",
        "  acc = 100*accuracy_score(ytest_nb, ypred_nb)\n",
        "  print(f'PCs {i}, accuracy: {acc:g}%')\n",
        "  if(acc>max_acc):\n",
        "    r = i\n",
        "    max_acc = acc\n",
        "print(f'Optimum selected PCs: {r}')\n",
        "print(f'Maximum accuracy: {max_acc:g}%')"
      ]
    },
    {
      "cell_type": "code",
      "execution_count": 185,
      "metadata": {
        "colab": {
          "base_uri": "https://localhost:8080/"
        },
        "id": "pPOF7LitFLmw",
        "outputId": "a0f56806-3b27-4891-cded-0407199138d5"
      },
      "outputs": [
        {
          "output_type": "stream",
          "name": "stdout",
          "text": [
            "Accuracy: 95.1076%\n"
          ]
        }
      ],
      "source": [
        "#Training with PCA(1) and Feature Selection\n",
        "pca = PCA(1)\n",
        "ztrain_nb = pca.fit_transform(xtrain_nb_selected)\n",
        "ztest_nb = pca.transform(xtest_nb_selected)\n",
        "gnb = GaussianNB()\n",
        "gnb.fit(ztrain_nb, ytrain_nb)\n",
        "ypred_nb = gnb.predict(ztest_nb)\n",
        "acc = 100*accuracy_score(ytest_nb, ypred_nb)\n",
        "print(f'Accuracy: {acc:g}%')"
      ]
    },
    {
      "cell_type": "code",
      "execution_count": 186,
      "metadata": {
        "colab": {
          "base_uri": "https://localhost:8080/"
        },
        "id": "a-84GSeRLpr9",
        "outputId": "13d15071-ecd6-4600-cf71-32a5a81dfe05"
      },
      "outputs": [
        {
          "output_type": "stream",
          "name": "stdout",
          "text": [
            "Confusion Matrix:\n",
            "[[1458    0]\n",
            " [  75    0]]\n",
            "\n",
            "Normalized Confusion Matrix:\n",
            "[[1. 0.]\n",
            " [1. 0.]]\n",
            "\n",
            "Classification Report :\n",
            "              precision    recall  f1-score   support\n",
            "\n",
            "          no       0.95      1.00      0.97      1458\n",
            "         yes       0.00      0.00      0.00        75\n",
            "\n",
            "    accuracy                           0.95      1533\n",
            "   macro avg       0.48      0.50      0.49      1533\n",
            "weighted avg       0.90      0.95      0.93      1533\n",
            "\n"
          ]
        }
      ],
      "source": [
        "#Display Confusion Matrix and Classification Report\n",
        "display_cm(ytest_nb, ypred_nb)\n",
        "display_cr(ytest_nb, ypred_nb, target_names)"
      ]
    },
    {
      "cell_type": "markdown",
      "metadata": {
        "id": "Roxo_JulBKOe"
      },
      "source": [
        "###**Scenario 3**"
      ]
    },
    {
      "cell_type": "code",
      "execution_count": 187,
      "metadata": {
        "colab": {
          "base_uri": "https://localhost:8080/"
        },
        "id": "G1aanL1uBajk",
        "outputId": "3b72a430-5f70-44bb-fdf0-6c72073925cf"
      },
      "outputs": [
        {
          "output_type": "stream",
          "name": "stdout",
          "text": [
            "xtrain shape: (6805, 10)\n",
            "ytrain shape: (6805,)\n",
            "xtest shape: (2917, 10)\n",
            "ytest shape: (2917,)\n"
          ]
        }
      ],
      "source": [
        "#split data into training data and testing data\n",
        "xtrain_nb, xtest_nb, ytrain_nb, ytest_nb = train_test_split(features_resampled, target_resampled, test_size=0.3, stratify=target_resampled, random_state=1)\n",
        "print(f'xtrain shape: {xtrain_nb.shape}')\n",
        "print(f'ytrain shape: {ytrain_nb.shape}')\n",
        "print(f'xtest shape: {xtest_nb.shape}')\n",
        "print(f'ytest shape: {ytest_nb.shape}')"
      ]
    },
    {
      "cell_type": "code",
      "execution_count": 188,
      "metadata": {
        "colab": {
          "base_uri": "https://localhost:8080/"
        },
        "id": "DJBeuptlBezi",
        "outputId": "e0076f70-6789-44ab-ad08-fbf641500419"
      },
      "outputs": [
        {
          "output_type": "stream",
          "name": "stdout",
          "text": [
            "Standard Scaling - Successfully\n"
          ]
        }
      ],
      "source": [
        "#Preprocessing Data\n",
        "xtrain_nb, xtest_nb = standard_scaler(xtrain_nb, xtest_nb)"
      ]
    },
    {
      "cell_type": "code",
      "execution_count": 189,
      "metadata": {
        "colab": {
          "base_uri": "https://localhost:8080/"
        },
        "id": "buPkACOCBjuU",
        "outputId": "60959c28-cb5f-4e0d-e3a3-e07b7f527662"
      },
      "outputs": [
        {
          "output_type": "stream",
          "name": "stdout",
          "text": [
            "P-value         : [2.23971349e-003 0.00000000e+000 1.08697163e-102 3.59344817e-093\n",
            " 2.19689849e-156 6.20139603e-046 1.96264206e-004 3.80445959e-092\n",
            " 1.31276965e-012 5.89347243e-039]\n",
            "all columns     : [0, 1, 2, 3, 4, 5, 6, 7, 8, 9]\n",
            "Selected columns: [1, 2, 3, 4, 7]\n"
          ]
        }
      ],
      "source": [
        "#Feature Selection\n",
        "x2, pval = f_classif(xtrain_nb, ytrain_nb)\n",
        "selected_col = np.where(pval<1.e-50)[0]\n",
        "\n",
        "xtrain_nb_selected = xtrain_nb[:, selected_col]\n",
        "xtest_nb_selected = xtest_nb[:, selected_col]\n",
        "\n",
        "print(f'P-value         : {pval}')\n",
        "print(f'all columns     : {[*range(len(xtrain_nb[1,:]))]}')\n",
        "print(f'Selected columns: {selected_col.tolist()}')"
      ]
    },
    {
      "cell_type": "code",
      "execution_count": 190,
      "metadata": {
        "colab": {
          "base_uri": "https://localhost:8080/"
        },
        "id": "Z3-RIG0JJdxt",
        "outputId": "b1025f10-0a1e-467d-8194-d142fc3b466a"
      },
      "outputs": [
        {
          "output_type": "stream",
          "name": "stdout",
          "text": [
            "Accuracy: 77.2369%\n"
          ]
        }
      ],
      "source": [
        "#Without Dimentional Reduction and Feature Selection\n",
        "gnb = GaussianNB()\n",
        "gnb.fit(xtrain_nb, ytrain_nb)\n",
        "ypred_nb = gnb.predict(xtest_nb)\n",
        "acc = 100*accuracy_score(ytest_nb, ypred_nb)\n",
        "print(f'Accuracy: {acc:g}%')"
      ]
    },
    {
      "cell_type": "code",
      "execution_count": 191,
      "metadata": {
        "colab": {
          "base_uri": "https://localhost:8080/"
        },
        "id": "WekF00lMJE0p",
        "outputId": "8854887f-d9bc-4a7d-e778-1f63051a838a"
      },
      "outputs": [
        {
          "output_type": "stream",
          "name": "stdout",
          "text": [
            "PCs 1, accuracy: 69.3864%\n",
            "PCs 2, accuracy: 69.7977%\n",
            "PCs 3, accuracy: 71.0319%\n",
            "PCs 4, accuracy: 73.363%\n",
            "PCs 5, accuracy: 73.0202%\n",
            "PCs 6, accuracy: 74.1172%\n",
            "PCs 7, accuracy: 73.843%\n",
            "PCs 8, accuracy: 73.8087%\n",
            "PCs 9, accuracy: 72.9174%\n",
            "PCs 10, accuracy: 77.3055%\n",
            "Optimum selected PCs: 10\n",
            "Maximum accuracy: 77.3055%\n"
          ]
        }
      ],
      "source": [
        "#Dimentional Reduction without Feature Selection\n",
        "r = 1\n",
        "max_acc = 0\n",
        "for i in range(1,len(xtrain_nb[1,:])+1):\n",
        "  pca = PCA(i)\n",
        "  ztrain_nb = pca.fit_transform(xtrain_nb)\n",
        "  ztest_nb = pca.transform(xtest_nb)\n",
        "  gnb = GaussianNB()\n",
        "  gnb.fit(ztrain_nb, ytrain_nb)\n",
        "  ypred_nb = gnb.predict(ztest_nb)\n",
        "  acc = 100*accuracy_score(ytest_nb, ypred_nb)\n",
        "  print(f'PCs {i}, accuracy: {acc:g}%')\n",
        "  if(acc>max_acc):\n",
        "    r = i\n",
        "    max_acc = acc\n",
        "print(f'Optimum selected PCs: {r}')\n",
        "print(f'Maximum accuracy: {max_acc:g}%')"
      ]
    },
    {
      "cell_type": "code",
      "execution_count": 192,
      "metadata": {
        "colab": {
          "base_uri": "https://localhost:8080/"
        },
        "id": "HrWFU7-HB627",
        "outputId": "88257033-6624-4577-91ba-57228278a175"
      },
      "outputs": [
        {
          "output_type": "stream",
          "name": "stdout",
          "text": [
            "PCs 1, accuracy: 75.9685%\n",
            "PCs 2, accuracy: 75.9685%\n",
            "PCs 3, accuracy: 76.6541%\n",
            "PCs 4, accuracy: 76.0713%\n",
            "PCs 5, accuracy: 75.9342%\n",
            "Optimum selected PCs: 3\n",
            "Maximum accuracy: 76.6541%\n"
          ]
        }
      ],
      "source": [
        "#Dimentional Reduction with Feature Selection\n",
        "r = 1\n",
        "max_acc = 0\n",
        "for i in range(1,len(selected_col)+1):\n",
        "  pca = PCA(i)\n",
        "  ztrain_nb = pca.fit_transform(xtrain_nb_selected)\n",
        "  ztest_nb = pca.transform(xtest_nb_selected)\n",
        "  gnb = GaussianNB()\n",
        "  gnb.fit(ztrain_nb, ytrain_nb)\n",
        "  ypred_nb = gnb.predict(ztest_nb)\n",
        "  acc = 100*accuracy_score(ytest_nb, ypred_nb)\n",
        "  print(f'PCs {i}, accuracy: {acc:g}%')\n",
        "  if(acc>max_acc):\n",
        "    r = i\n",
        "    max_acc = acc\n",
        "print(f'Optimum selected PCs: {r}')\n",
        "print(f'Maximum accuracy: {max_acc:g}%')"
      ]
    },
    {
      "cell_type": "code",
      "execution_count": 193,
      "metadata": {
        "colab": {
          "base_uri": "https://localhost:8080/"
        },
        "id": "dDw7eOFpJThZ",
        "outputId": "24b3362c-6168-4cba-db52-91689c81745a"
      },
      "outputs": [
        {
          "output_type": "stream",
          "name": "stdout",
          "text": [
            "Accuracy: 77.3055%\n",
            "\n"
          ]
        }
      ],
      "source": [
        "#training with PCA(10) without Feature Selection\n",
        "pca = PCA(10)\n",
        "ztrain_nb = pca.fit_transform(xtrain_nb)\n",
        "ztest_nb = pca.transform(xtest_nb)\n",
        "gnb = GaussianNB()\n",
        "gnb.fit(ztrain_nb, ytrain_nb)\n",
        "ypred_nb = gnb.predict(ztest_nb)\n",
        "acc = 100*accuracy_score(ytest_nb, ypred_nb)\n",
        "print(f'Accuracy: {acc:g}%\\n')"
      ]
    },
    {
      "cell_type": "code",
      "execution_count": 194,
      "metadata": {
        "colab": {
          "base_uri": "https://localhost:8080/"
        },
        "id": "EmMx_cWOLm7o",
        "outputId": "0902ad54-d296-48d0-e00b-02452eff6501"
      },
      "outputs": [
        {
          "output_type": "stream",
          "name": "stdout",
          "text": [
            "Confusion Matrix:\n",
            "[[ 975  483]\n",
            " [ 179 1280]]\n",
            "\n",
            "Normalized Confusion Matrix:\n",
            "[[0.66872428 0.33127572]\n",
            " [0.12268677 0.87731323]]\n",
            "\n",
            "Classification Report :\n",
            "              precision    recall  f1-score   support\n",
            "\n",
            "          no       0.84      0.67      0.75      1458\n",
            "         yes       0.73      0.88      0.79      1459\n",
            "\n",
            "    accuracy                           0.77      2917\n",
            "   macro avg       0.79      0.77      0.77      2917\n",
            "weighted avg       0.79      0.77      0.77      2917\n",
            "\n"
          ]
        }
      ],
      "source": [
        "#Display Confusion Matrix and Classification Report\n",
        "display_cm(ytest_nb, ypred_nb)\n",
        "display_cr(ytest_nb, ypred_nb, target_names)"
      ]
    },
    {
      "cell_type": "code",
      "execution_count": 195,
      "metadata": {
        "colab": {
          "base_uri": "https://localhost:8080/"
        },
        "id": "RqUVVTNIKsPy",
        "outputId": "1870c70a-f108-46b2-806e-0628129a56a7"
      },
      "outputs": [
        {
          "output_type": "stream",
          "name": "stdout",
          "text": [
            "Accuracy: 76.8366%\n"
          ]
        }
      ],
      "source": [
        "#K-Fold Cross Validation\n",
        "gnb = GaussianNB()\n",
        "acc = cross_val_score(gnb, features_resampled, target_resampled, cv=30)\n",
        "print(f'Accuracy: {100*acc.mean():g}%')"
      ]
    },
    {
      "cell_type": "markdown",
      "metadata": {
        "id": "y98kjuKd0969"
      },
      "source": [
        "##**Classification: Logistics Regression**\n"
      ]
    },
    {
      "cell_type": "markdown",
      "metadata": {
        "id": "TyXp07flzdsf"
      },
      "source": [
        "###**Scenario 1**"
      ]
    },
    {
      "cell_type": "code",
      "execution_count": 196,
      "metadata": {
        "colab": {
          "base_uri": "https://localhost:8080/"
        },
        "id": "Ne1_RQrg411n",
        "outputId": "47adfc4b-aa77-46d4-8ce2-a82c11ff51dd"
      },
      "outputs": [
        {
          "output_type": "stream",
          "name": "stdout",
          "text": [
            "xtrain shape: (3577, 10)\n",
            "ytrain shape: (3577,)\n",
            "xtest shape: (1533, 10)\n",
            "ytest shape: (1533,)\n"
          ]
        }
      ],
      "source": [
        "#split data into training data and testing data\n",
        "xtrain_lr, xtest_lr, ytrain_lr, ytest_lr = train_test_split(features, target, test_size=0.3, stratify=target, random_state=1)\n",
        "print(f'xtrain shape: {xtrain_lr.shape}')\n",
        "print(f'ytrain shape: {ytrain_lr.shape}')\n",
        "print(f'xtest shape: {xtest_lr.shape}')\n",
        "print(f'ytest shape: {ytest_lr.shape}')"
      ]
    },
    {
      "cell_type": "code",
      "execution_count": 197,
      "metadata": {
        "colab": {
          "base_uri": "https://localhost:8080/"
        },
        "id": "OLdJuoHPqZ96",
        "outputId": "f632330a-77ca-4a11-d54d-37bde836d4ff"
      },
      "outputs": [
        {
          "output_type": "stream",
          "name": "stdout",
          "text": [
            "Drop Outliers - Successfully\n",
            "Shape: (Feature(3577, 10) Target(3577,) => Feature(2743, 10) Target(2743,))\n",
            "Standard Scaling - Successfully\n"
          ]
        }
      ],
      "source": [
        "#Preprocessing Data\n",
        "xtrain_lr, ytrain_lr = drop_outliers(xtrain_lr, ytrain_lr)\n",
        "xtrain_lr, xtest_lr = standard_scaler(xtrain_lr, xtest_lr)"
      ]
    },
    {
      "cell_type": "code",
      "execution_count": 198,
      "metadata": {
        "colab": {
          "base_uri": "https://localhost:8080/"
        },
        "id": "KYkIVpcJqaio",
        "outputId": "5df2e225-0126-4c0e-8e21-7c470d280a89"
      },
      "outputs": [
        {
          "output_type": "stream",
          "name": "stdout",
          "text": [
            "Accuracy: 95.1076%\n"
          ]
        }
      ],
      "source": [
        "#training \n",
        "lr = LogisticRegression()\n",
        "lr.fit(xtrain_lr, ytrain_lr)\n",
        "ypred_lr = lr.predict(xtest_lr)\n",
        "acc = 100*accuracy_score(ytest_lr, ypred_lr)\n",
        "print(f'Accuracy: {acc:g}%')"
      ]
    },
    {
      "cell_type": "code",
      "execution_count": 199,
      "metadata": {
        "colab": {
          "base_uri": "https://localhost:8080/"
        },
        "id": "Kz21j8N5qq6X",
        "outputId": "d0e77855-fc84-4153-e6c8-beb57879d2b8"
      },
      "outputs": [
        {
          "output_type": "stream",
          "name": "stdout",
          "text": [
            "Confusion Matrix:\n",
            "[[1458    0]\n",
            " [  75    0]]\n",
            "\n",
            "Normalized Confusion Matrix:\n",
            "[[1. 0.]\n",
            " [1. 0.]]\n",
            "\n",
            "Classification Report :\n",
            "              precision    recall  f1-score   support\n",
            "\n",
            "          no       0.95      1.00      0.97      1458\n",
            "         yes       0.00      0.00      0.00        75\n",
            "\n",
            "    accuracy                           0.95      1533\n",
            "   macro avg       0.48      0.50      0.49      1533\n",
            "weighted avg       0.90      0.95      0.93      1533\n",
            "\n"
          ]
        }
      ],
      "source": [
        "#Display Confusion Matrix and Classification Report\n",
        "display_cm(ytest_lr, ypred_lr)\n",
        "display_cr(ytest_lr, ypred_lr, target_names)"
      ]
    },
    {
      "cell_type": "code",
      "execution_count": 200,
      "metadata": {
        "colab": {
          "base_uri": "https://localhost:8080/"
        },
        "id": "1OPIu-YrqxTN",
        "outputId": "decf4017-f4a3-4bd5-b6a9-e222b59ef201"
      },
      "outputs": [
        {
          "output_type": "stream",
          "name": "stdout",
          "text": [
            "xtrain shape: (2044, 10)\n",
            "ytrain shape: (2044,)\n",
            "xval shape: (1533, 10)\n",
            "yval shape: (1533,)\n",
            "xtest shape: (1533, 10)\n",
            "ytest shape: (1533,)\n"
          ]
        }
      ],
      "source": [
        "#split data into training data, validation data and testing data\n",
        "xtrain_lr, xtest_lr, ytrain_lr, ytest_lr = train_test_split(features, target, test_size=0.3, stratify=target, random_state=1)\n",
        "xtrain_lr, xval_lr, ytrain_lr, yval_lr = train_test_split(xtrain_lr, ytrain_lr ,test_size=1533/3577, stratify=ytrain_lr, random_state=1)\n",
        "print(f'xtrain shape: {xtrain_lr.shape}')\n",
        "print(f'ytrain shape: {ytrain_lr.shape}')\n",
        "print(f'xval shape: {xval_lr.shape}')\n",
        "print(f'yval shape: {yval_lr.shape}')\n",
        "print(f'xtest shape: {xtest_lr.shape}')\n",
        "print(f'ytest shape: {ytest_lr.shape}')"
      ]
    },
    {
      "cell_type": "code",
      "execution_count": 201,
      "metadata": {
        "colab": {
          "base_uri": "https://localhost:8080/"
        },
        "id": "c6wjLm1Gq3r_",
        "outputId": "4056e83f-948d-495f-b22f-515abddf91ce"
      },
      "outputs": [
        {
          "output_type": "stream",
          "name": "stdout",
          "text": [
            "Drop Outliers - Successfully\n",
            "Shape: (Feature(2044, 10) Target(2044,) => Feature(1556, 10) Target(1556,))\n",
            "Standard Scaling - Successfully\n",
            "Standard Scaling - Successfully\n"
          ]
        }
      ],
      "source": [
        "#Preprocessing Data\n",
        "xtrain_lr, ytrain_lr = drop_outliers(xtrain_lr, ytrain_lr)\n",
        "_, xtest_lr = standard_scaler(xtrain_lr, xtest_lr)\n",
        "xtrain_lr, xval_lr = standard_scaler(xtrain_lr, xval_lr)"
      ]
    },
    {
      "cell_type": "code",
      "execution_count": 202,
      "metadata": {
        "colab": {
          "base_uri": "https://localhost:8080/"
        },
        "id": "xbb0nwZGq4yd",
        "outputId": "32e4b675-df89-481d-d84c-9057a70f52a7"
      },
      "outputs": [
        {
          "output_type": "stream",
          "name": "stdout",
          "text": [
            "Best validation accuracy: 95.1076%\n",
            "Best testing accuracy: 95.1076%\n"
          ]
        }
      ],
      "source": [
        "#training \n",
        "lr = LogisticRegression()\n",
        "lr.fit(xtrain_lr, ytrain_lr)\n",
        "#validation\n",
        "ypred_lr = lr.predict(xval_lr)\n",
        "acc = 100*accuracy_score(yval_lr, ypred_lr)\n",
        "print(f'Best validation accuracy: {acc:g}%')\n",
        "#testing\n",
        "ypred_lr = lr.predict(xtest_lr)\n",
        "acc = 100*accuracy_score(ytest_lr, ypred_lr)\n",
        "print(f'Best testing accuracy: {acc:g}%')"
      ]
    },
    {
      "cell_type": "code",
      "execution_count": 203,
      "metadata": {
        "colab": {
          "base_uri": "https://localhost:8080/"
        },
        "id": "mWbneMMXrPD8",
        "outputId": "dae26d28-2301-4532-c987-521a15a7d35f"
      },
      "outputs": [
        {
          "output_type": "stream",
          "name": "stdout",
          "text": [
            "Highest accuracy: 95.1076%\n"
          ]
        }
      ],
      "source": [
        "#Stratified Holdout\n",
        "sss = list(StratifiedShuffleSplit(n_splits=10, test_size=0.3, random_state=1).split(features, target))\n",
        "\n",
        "lr = LogisticRegression(max_iter=500)\n",
        "acc = cross_val_score(lr, features, target, cv=sss)\n",
        "print(f'Highest accuracy: {100*acc.mean():g}%')"
      ]
    },
    {
      "cell_type": "code",
      "execution_count": 204,
      "metadata": {
        "colab": {
          "base_uri": "https://localhost:8080/"
        },
        "id": "vwBr17ANyH6F",
        "outputId": "61c5d8a7-d66a-4424-cbd2-623ea2af627c"
      },
      "outputs": [
        {
          "output_type": "stream",
          "name": "stdout",
          "text": [
            "Highest accuracy: 95.1082%\n"
          ]
        }
      ],
      "source": [
        "#K-Fold Cross Validation\n",
        "lr = LogisticRegression(max_iter=500)\n",
        "acc = cross_val_score(lr, features, target, cv=30)\n",
        "print(f'Highest accuracy: {100*acc.mean():g}%')"
      ]
    },
    {
      "cell_type": "markdown",
      "metadata": {
        "id": "KgnksfvKzh5j"
      },
      "source": [
        "###**Scenario 2**"
      ]
    },
    {
      "cell_type": "code",
      "execution_count": 205,
      "metadata": {
        "colab": {
          "base_uri": "https://localhost:8080/"
        },
        "id": "eEvTAuJhziFR",
        "outputId": "cc77e3c8-0b46-4f1c-acb6-e0d4c6b15c0b"
      },
      "outputs": [
        {
          "output_type": "stream",
          "name": "stdout",
          "text": [
            "xtrain shape: (3577, 10)\n",
            "ytrain shape: (3577,)\n",
            "xtest shape: (1533, 10)\n",
            "ytest shape: (1533,)\n"
          ]
        }
      ],
      "source": [
        "#split data into training data and testing data\n",
        "xtrain_lr, xtest_lr, ytrain_lr, ytest_lr = train_test_split(features, target, test_size=0.3, stratify=target, random_state=1)\n",
        "print(f'xtrain shape: {xtrain_lr.shape}')\n",
        "print(f'ytrain shape: {ytrain_lr.shape}')\n",
        "print(f'xtest shape: {xtest_lr.shape}')\n",
        "print(f'ytest shape: {ytest_lr.shape}')"
      ]
    },
    {
      "cell_type": "code",
      "execution_count": 206,
      "metadata": {
        "colab": {
          "base_uri": "https://localhost:8080/"
        },
        "id": "i5iT8ic9zorG",
        "outputId": "2cd0e613-636b-49e3-ae42-426c30fc450b"
      },
      "outputs": [
        {
          "output_type": "stream",
          "name": "stdout",
          "text": [
            "Standard Scaling - Successfully\n"
          ]
        }
      ],
      "source": [
        "#Preprocessing Data\n",
        "xtrain_lr, xtest_lr = standard_scaler(xtrain_lr, xtest_lr)"
      ]
    },
    {
      "cell_type": "code",
      "execution_count": 207,
      "metadata": {
        "colab": {
          "base_uri": "https://localhost:8080/"
        },
        "id": "Z1HhbqCW0Gdi",
        "outputId": "f68b9c90-5692-4206-c359-8f41971b6de2"
      },
      "outputs": [
        {
          "output_type": "stream",
          "name": "stdout",
          "text": [
            "P-value         : [7.66348373e-01 1.18805646e-51 6.09045104e-12 1.33783755e-16\n",
            " 1.33570385e-10 4.40009038e-04 6.82175845e-01 1.47047684e-13\n",
            " 2.01461271e-02 4.37292998e-06]\n",
            "all columns     : [0, 1, 2, 3, 4, 5, 6, 7, 8, 9]\n",
            "Selected columns: [1, 2, 3, 4, 7, 9]\n"
          ]
        }
      ],
      "source": [
        "#Feature Selection\n",
        "x2, pval = f_classif(xtrain_lr, ytrain_lr)\n",
        "selected_col = np.where(pval<1.e-5)[0]\n",
        "\n",
        "xtrain_lr_selected = xtrain_lr[:, selected_col]\n",
        "xtest_lr_selected = xtest_lr[:, selected_col]\n",
        "\n",
        "print(f'P-value         : {pval}')\n",
        "print(f'all columns     : {[*range(len(xtrain_lr[1,:]))]}')\n",
        "print(f'Selected columns: {selected_col.tolist()}')"
      ]
    },
    {
      "cell_type": "code",
      "execution_count": 208,
      "metadata": {
        "colab": {
          "base_uri": "https://localhost:8080/"
        },
        "id": "B3F--Qbx0QZf",
        "outputId": "abf05a57-20b0-4deb-e89c-660b17e7c3a2"
      },
      "outputs": [
        {
          "output_type": "stream",
          "name": "stdout",
          "text": [
            "PCs 1, accuracy: 95.1076%\n",
            "PCs 2, accuracy: 95.1729%\n",
            "PCs 3, accuracy: 95.1729%\n",
            "PCs 4, accuracy: 95.1729%\n",
            "PCs 5, accuracy: 95.1729%\n",
            "PCs 6, accuracy: 95.1729%\n",
            "PCs 7, accuracy: 95.1729%\n",
            "PCs 8, accuracy: 95.1076%\n",
            "PCs 9, accuracy: 95.1076%\n",
            "PCs 10, accuracy: 95.0424%\n",
            "Optimum selected PCs: 2\n",
            "Maximum accuracy: 95.1729%\n"
          ]
        }
      ],
      "source": [
        "#Dimentional Reduction without Feature Selection\n",
        "r = 1\n",
        "max_acc = 0\n",
        "for i in range(1,len(xtrain_lr[1,:])+1):\n",
        "  pca = PCA(i)\n",
        "  ztrain_lr = pca.fit_transform(xtrain_lr)\n",
        "  ztest_lr = pca.transform(xtest_lr)\n",
        "  lr = LogisticRegression()\n",
        "  lr.fit(ztrain_lr, ytrain_lr)\n",
        "  ypred_lr = lr.predict(ztest_lr)\n",
        "  acc = 100*accuracy_score(ytest_lr, ypred_lr)\n",
        "  print(f'PCs {i}, accuracy: {acc:g}%')\n",
        "  if(acc>max_acc):\n",
        "    r = i\n",
        "    max_acc = acc\n",
        "print(f'Optimum selected PCs: {r}')\n",
        "print(f'Maximum accuracy: {max_acc:g}%')"
      ]
    },
    {
      "cell_type": "code",
      "execution_count": 209,
      "metadata": {
        "colab": {
          "base_uri": "https://localhost:8080/"
        },
        "id": "ZTWhicu70WS1",
        "outputId": "ae70a402-3331-45e7-e956-fd38d0e8bcf4"
      },
      "outputs": [
        {
          "output_type": "stream",
          "name": "stdout",
          "text": [
            "PCs 1, accuracy: 95.1076%\n",
            "PCs 2, accuracy: 95.1729%\n",
            "PCs 3, accuracy: 95.1076%\n",
            "PCs 4, accuracy: 95.1076%\n",
            "PCs 5, accuracy: 95.1076%\n",
            "PCs 6, accuracy: 95.1076%\n",
            "Optimum selected PCs: 2\n",
            "Maximum accuracy: 95.1729%\n"
          ]
        }
      ],
      "source": [
        "#Dimentional Reduction with Feature Selection\n",
        "r = 1\n",
        "max_acc = 0\n",
        "for i in range(1,len(selected_col)+1):\n",
        "  pca = PCA(i)\n",
        "  ztrain_lr = pca.fit_transform(xtrain_lr_selected)\n",
        "  ztest_lr = pca.transform(xtest_lr_selected)\n",
        "  lr = LogisticRegression()\n",
        "  lr.fit(ztrain_lr, ytrain_lr)\n",
        "  ypred_lr = lr.predict(ztest_lr)\n",
        "  acc = 100*accuracy_score(ytest_lr, ypred_lr)\n",
        "  print(f'PCs {i}, accuracy: {acc:g}%')\n",
        "  if(acc>max_acc):\n",
        "    r = i\n",
        "    max_acc = acc\n",
        "print(f'Optimum selected PCs: {r}')\n",
        "print(f'Maximum accuracy: {max_acc:g}%')"
      ]
    },
    {
      "cell_type": "code",
      "execution_count": 210,
      "metadata": {
        "colab": {
          "base_uri": "https://localhost:8080/"
        },
        "id": "0OIdqng_Tq05",
        "outputId": "5126b101-1ae6-4e9d-f96f-546e909c2497"
      },
      "outputs": [
        {
          "output_type": "stream",
          "name": "stdout",
          "text": [
            "Accuracy: 95.1729%\n"
          ]
        }
      ],
      "source": [
        "#Training with PCA(2) and Feature Selection\n",
        "pca = PCA(2)\n",
        "ztrain_lr = pca.fit_transform(xtrain_lr_selected)\n",
        "ztest_lr = pca.transform(xtest_lr_selected)\n",
        "lr = LogisticRegression()\n",
        "lr.fit(ztrain_lr, ytrain_lr)\n",
        "ypred_lr = lr.predict(ztest_lr)\n",
        "acc = 100*accuracy_score(ytest_lr, ypred_lr)\n",
        "print(f'Accuracy: {acc:g}%')"
      ]
    },
    {
      "cell_type": "code",
      "execution_count": 211,
      "metadata": {
        "colab": {
          "base_uri": "https://localhost:8080/"
        },
        "id": "t5wyc7t6U4dQ",
        "outputId": "860f0775-241d-4469-858c-e4ce19161778"
      },
      "outputs": [
        {
          "output_type": "stream",
          "name": "stdout",
          "text": [
            "Confusion Matrix:\n",
            "[[1458    0]\n",
            " [  74    1]]\n",
            "\n",
            "Normalized Confusion Matrix:\n",
            "[[1.         0.        ]\n",
            " [0.98666667 0.01333333]]\n",
            "\n",
            "Classification Report :\n",
            "              precision    recall  f1-score   support\n",
            "\n",
            "          no       0.95      1.00      0.98      1458\n",
            "         yes       1.00      0.01      0.03        75\n",
            "\n",
            "    accuracy                           0.95      1533\n",
            "   macro avg       0.98      0.51      0.50      1533\n",
            "weighted avg       0.95      0.95      0.93      1533\n",
            "\n"
          ]
        }
      ],
      "source": [
        "#Display Confusion Matrix and Classification Report\n",
        "display_cm(ytest_lr, ypred_lr)\n",
        "display_cr(ytest_lr, ypred_lr, target_names)"
      ]
    },
    {
      "cell_type": "markdown",
      "metadata": {
        "id": "wHGkXt0EVIpv"
      },
      "source": [
        "###**Scenario 3**"
      ]
    },
    {
      "cell_type": "code",
      "execution_count": 212,
      "metadata": {
        "colab": {
          "base_uri": "https://localhost:8080/"
        },
        "id": "N4d9TUSbVWpH",
        "outputId": "36f65dab-f6b4-4cb6-dd6a-445dedcc8b77"
      },
      "outputs": [
        {
          "output_type": "stream",
          "name": "stdout",
          "text": [
            "xtrain shape: (6805, 10)\n",
            "ytrain shape: (6805,)\n",
            "xtest shape: (2917, 10)\n",
            "ytest shape: (2917,)\n"
          ]
        }
      ],
      "source": [
        "#split data into training data and testing data\n",
        "xtrain_lr, xtest_lr, ytrain_lr, ytest_lr = train_test_split(features_resampled, target_resampled, test_size=0.3, stratify=target_resampled, random_state=1)\n",
        "print(f'xtrain shape: {xtrain_lr.shape}')\n",
        "print(f'ytrain shape: {ytrain_lr.shape}')\n",
        "print(f'xtest shape: {xtest_lr.shape}')\n",
        "print(f'ytest shape: {ytest_lr.shape}')"
      ]
    },
    {
      "cell_type": "code",
      "execution_count": 213,
      "metadata": {
        "colab": {
          "base_uri": "https://localhost:8080/"
        },
        "id": "s8irSZJUVhUy",
        "outputId": "13965ed4-547c-4b96-b9c9-b58a2ba3a3cc"
      },
      "outputs": [
        {
          "output_type": "stream",
          "name": "stdout",
          "text": [
            "Standard Scaling - Successfully\n"
          ]
        }
      ],
      "source": [
        "#Preprocessing Data\n",
        "xtrain_lr, xtest_lr = standard_scaler(xtrain_lr, xtest_lr)"
      ]
    },
    {
      "cell_type": "code",
      "execution_count": 214,
      "metadata": {
        "id": "KCuLHtWKY6Ph",
        "colab": {
          "base_uri": "https://localhost:8080/"
        },
        "outputId": "b04b1553-9442-46bc-fab0-d1ec9cda2f22"
      },
      "outputs": [
        {
          "output_type": "stream",
          "name": "stdout",
          "text": [
            "P-value         : [2.23971349e-003 0.00000000e+000 1.08697163e-102 3.59344817e-093\n",
            " 2.19689849e-156 6.20139603e-046 1.96264206e-004 3.80445959e-092\n",
            " 1.31276965e-012 5.89347243e-039]\n",
            "all columns     : [0, 1, 2, 3, 4, 5, 6, 7, 8, 9]\n",
            "Selected columns: [1, 2, 3, 4, 7]\n"
          ]
        }
      ],
      "source": [
        "#Feature Selection\n",
        "x2, pval = f_classif(xtrain_lr, ytrain_lr)\n",
        "selected_col = np.where(pval<1.e-50)[0]\n",
        "\n",
        "xtrain_lr_selected = xtrain_lr[:, selected_col]\n",
        "xtest_lr_selected = xtest_lr[:, selected_col]\n",
        "\n",
        "print(f'P-value         : {pval}')\n",
        "print(f'all columns     : {[*range(len(xtrain_lr[1,:]))]}')\n",
        "print(f'Selected columns: {selected_col.tolist()}')"
      ]
    },
    {
      "cell_type": "code",
      "execution_count": 215,
      "metadata": {
        "id": "ovXHfXLBY-Xs",
        "colab": {
          "base_uri": "https://localhost:8080/"
        },
        "outputId": "3a4db115-2327-4c74-8137-7f8e4e42d0fd"
      },
      "outputs": [
        {
          "output_type": "stream",
          "name": "stdout",
          "text": [
            "Accuracy: 76.8255%\n"
          ]
        }
      ],
      "source": [
        "#Without Dimentional Reduction and Feature Selection\n",
        "lr = LogisticRegression(max_iter=500)\n",
        "lr.fit(xtrain_lr, ytrain_lr)\n",
        "ypred_lr = lr.predict(xtest_lr)\n",
        "acc = 100*accuracy_score(ytest_lr, ypred_lr)\n",
        "print(f'Accuracy: {acc:g}%')"
      ]
    },
    {
      "cell_type": "code",
      "execution_count": 216,
      "metadata": {
        "id": "eiDe-eNOcP8R",
        "colab": {
          "base_uri": "https://localhost:8080/"
        },
        "outputId": "41c5b939-5fc8-4399-9224-0ccdaf7a2b95"
      },
      "outputs": [
        {
          "output_type": "stream",
          "name": "stdout",
          "text": [
            "PCs 1, accuracy: 69.5235%\n",
            "PCs 2, accuracy: 69.6606%\n",
            "PCs 3, accuracy: 71.7861%\n",
            "PCs 4, accuracy: 74.083%\n",
            "PCs 5, accuracy: 75.0429%\n",
            "PCs 6, accuracy: 76.1399%\n",
            "PCs 7, accuracy: 76.9626%\n",
            "PCs 8, accuracy: 76.8598%\n",
            "PCs 9, accuracy: 76.8941%\n",
            "PCs 10, accuracy: 76.8255%\n",
            "Optimum selected PCs: 7\n",
            "Maximum accuracy: 76.9626%\n"
          ]
        }
      ],
      "source": [
        "#Dimentional Reduction without Feature Selection\n",
        "r = 1\n",
        "max_acc = 0\n",
        "for i in range(1,len(xtrain_lr[1,:])+1):\n",
        "  pca = PCA(i)\n",
        "  ztrain_lr = pca.fit_transform(xtrain_lr)\n",
        "  ztest_lr = pca.transform(xtest_lr)\n",
        "  lr = LogisticRegression()\n",
        "  lr.fit(ztrain_lr, ytrain_lr)\n",
        "  ypred_lr = lr.predict(ztest_lr)\n",
        "  acc = 100*accuracy_score(ytest_lr, ypred_lr)\n",
        "  print(f'PCs {i}, accuracy: {acc:g}%')\n",
        "  if(acc>max_acc):\n",
        "    r = i\n",
        "    max_acc = acc\n",
        "print(f'Optimum selected PCs: {r}')\n",
        "print(f'Maximum accuracy: {max_acc:g}%')"
      ]
    },
    {
      "cell_type": "code",
      "execution_count": 217,
      "metadata": {
        "id": "vARz_nC6cX1n",
        "colab": {
          "base_uri": "https://localhost:8080/"
        },
        "outputId": "f1b629ae-e3ca-4d2c-bd84-816f3595e8b1"
      },
      "outputs": [
        {
          "output_type": "stream",
          "name": "stdout",
          "text": [
            "PCs 1, accuracy: 76.8598%\n",
            "PCs 2, accuracy: 77.134%\n",
            "PCs 3, accuracy: 76.9626%\n",
            "PCs 4, accuracy: 77.2026%\n",
            "PCs 5, accuracy: 76.8941%\n",
            "Optimum selected PCs: 4\n",
            "Maximum accuracy: 77.2026%\n"
          ]
        }
      ],
      "source": [
        "#Dimentional Reduction with Feature Selection\n",
        "r = 1\n",
        "max_acc = 0\n",
        "for i in range(1,len(selected_col)+1):\n",
        "  pca = PCA(i)\n",
        "  ztrain_lr = pca.fit_transform(xtrain_lr_selected)\n",
        "  ztest_lr = pca.transform(xtest_lr_selected)\n",
        "  lr = LogisticRegression()\n",
        "  lr.fit(ztrain_lr, ytrain_lr)\n",
        "  ypred_lr = lr.predict(ztest_lr)\n",
        "  acc = 100*accuracy_score(ytest_lr, ypred_lr)\n",
        "  print(f'PCs {i}, accuracy: {acc:g}%')\n",
        "  if(acc>max_acc):\n",
        "    r = i\n",
        "    max_acc = acc\n",
        "print(f'Optimum selected PCs: {r}')\n",
        "print(f'Maximum accuracy: {max_acc:g}%')"
      ]
    },
    {
      "cell_type": "code",
      "execution_count": 218,
      "metadata": {
        "id": "jRR1uadzdfpp",
        "colab": {
          "base_uri": "https://localhost:8080/"
        },
        "outputId": "681114e9-1c8f-472b-bcf1-d2e6b5389f1f"
      },
      "outputs": [
        {
          "output_type": "stream",
          "name": "stdout",
          "text": [
            "Accuracy: 77.2026%\n"
          ]
        }
      ],
      "source": [
        "#Training with PCA(4) and Feature Selection\n",
        "pca = PCA(4)\n",
        "ztrain_lr = pca.fit_transform(xtrain_lr_selected)\n",
        "ztest_lr = pca.transform(xtest_lr_selected)\n",
        "lr = LogisticRegression()\n",
        "lr.fit(ztrain_lr, ytrain_lr)\n",
        "ypred_lr = lr.predict(ztest_lr)\n",
        "acc = 100*accuracy_score(ytest_lr, ypred_lr)\n",
        "print(f'Accuracy: {acc:g}%')"
      ]
    },
    {
      "cell_type": "code",
      "execution_count": 219,
      "metadata": {
        "id": "VXj0hEw5dnhe",
        "colab": {
          "base_uri": "https://localhost:8080/"
        },
        "outputId": "6e93f4aa-fad8-42a7-c785-9a73a976c460"
      },
      "outputs": [
        {
          "output_type": "stream",
          "name": "stdout",
          "text": [
            "Confusion Matrix:\n",
            "[[1048  410]\n",
            " [ 255 1204]]\n",
            "\n",
            "Normalized Confusion Matrix:\n",
            "[[0.71879287 0.28120713]\n",
            " [0.17477724 0.82522276]]\n",
            "\n",
            "Classification Report :\n",
            "              precision    recall  f1-score   support\n",
            "\n",
            "          no       0.80      0.72      0.76      1458\n",
            "         yes       0.75      0.83      0.78      1459\n",
            "\n",
            "    accuracy                           0.77      2917\n",
            "   macro avg       0.78      0.77      0.77      2917\n",
            "weighted avg       0.78      0.77      0.77      2917\n",
            "\n"
          ]
        }
      ],
      "source": [
        "#Display Confusion Matrix and Classification Report\n",
        "display_cm(ytest_lr, ypred_lr)\n",
        "display_cr(ytest_lr, ypred_lr, target_names)"
      ]
    },
    {
      "cell_type": "code",
      "execution_count": 220,
      "metadata": {
        "colab": {
          "base_uri": "https://localhost:8080/"
        },
        "id": "r3ci4MBt_cSt",
        "outputId": "f1626c3e-1302-4e20-ae77-6067436745ba"
      },
      "outputs": [
        {
          "output_type": "stream",
          "name": "stdout",
          "text": [
            "Accuracy: 76.435%\n"
          ]
        }
      ],
      "source": [
        "#K-Fold Cross Validation\n",
        "lr = LogisticRegression(max_iter=500)\n",
        "acc = cross_val_score(lr, features_resampled, target_resampled, cv=30)\n",
        "print(f'Accuracy: {100*acc.mean():g}%')"
      ]
    },
    {
      "cell_type": "markdown",
      "metadata": {
        "id": "izfj0TWw1CiJ"
      },
      "source": [
        "##**Classification: Artificial Neural Network (ANN)**\n"
      ]
    },
    {
      "cell_type": "markdown",
      "metadata": {
        "id": "JeHzLS87eq9-"
      },
      "source": [
        "###**Scenario 1**"
      ]
    },
    {
      "cell_type": "code",
      "execution_count": 221,
      "metadata": {
        "colab": {
          "base_uri": "https://localhost:8080/"
        },
        "id": "RQjP2GLD42hw",
        "outputId": "f109fc30-2cb9-4e12-f177-64f26fd26b9d"
      },
      "outputs": [
        {
          "output_type": "stream",
          "name": "stdout",
          "text": [
            "xtrain shape: (3577, 10)\n",
            "ytrain shape: (3577,)\n",
            "xtest shape: (1533, 10)\n",
            "ytest shape: (1533,)\n"
          ]
        }
      ],
      "source": [
        "#split data into training data and testing data\n",
        "xtrain_ann, xtest_ann, ytrain_ann, ytest_ann = train_test_split(features, target, test_size=0.3, stratify=target,  random_state=1)\n",
        "print(f'xtrain shape: {xtrain_ann.shape}')\n",
        "print(f'ytrain shape: {ytrain_ann.shape}')\n",
        "print(f'xtest shape: {xtest_ann.shape}')\n",
        "print(f'ytest shape: {ytest_ann.shape}')"
      ]
    },
    {
      "cell_type": "code",
      "execution_count": 222,
      "metadata": {
        "colab": {
          "base_uri": "https://localhost:8080/"
        },
        "id": "6xjKNZffDBfv",
        "outputId": "437cd262-e679-4b2c-a391-9fa2567a9650"
      },
      "outputs": [
        {
          "output_type": "stream",
          "name": "stdout",
          "text": [
            "Drop Outliers - Successfully\n",
            "Shape: (Feature(3577, 10) Target(3577,) => Feature(2743, 10) Target(2743,))\n",
            "Standard Scaling - Successfully\n"
          ]
        }
      ],
      "source": [
        "#Preprocessing Data\n",
        "xtrain_ann, ytrain_ann = drop_outliers(xtrain_ann, ytrain_ann)\n",
        "xtrain_ann, xtest_ann = standard_scaler(xtrain_ann, xtest_ann)"
      ]
    },
    {
      "cell_type": "code",
      "execution_count": 223,
      "metadata": {
        "colab": {
          "base_uri": "https://localhost:8080/",
          "height": 314
        },
        "id": "IhcU05wbsHID",
        "outputId": "28093072-fde2-4933-e00b-1ca158a681b1"
      },
      "outputs": [
        {
          "output_type": "stream",
          "name": "stdout",
          "text": [
            "Highest accuracy:\n",
            "layer:(9,3), accuracy: 95.1076%\n"
          ]
        },
        {
          "output_type": "display_data",
          "data": {
            "text/plain": [
              "<Figure size 936x288 with 1 Axes>"
            ],
            "image/png": "[encoded data removed]"
          },
          "metadata": {
            "needs_background": "light"
          }
        }
      ],
      "source": [
        "#training with Neuron = (ix3, i) -> i = [2,20] with activation relu\n",
        "list_acc = []\n",
        "list_layer = []\n",
        "rangeN = range(2,21)\n",
        "for i in rangeN:\n",
        "  ann = MLPClassifier(hidden_layer_sizes=(i*3,i), max_iter=1500, random_state=1)\n",
        "  ann.fit(xtrain_ann, ytrain_ann)\n",
        "  ypred_ann = ann.predict(xtest_ann)\n",
        "  acc = 100*accuracy_score(ytest_ann, ypred_ann)\n",
        "  list_acc.append(acc)\n",
        "  list_layer.append(f'({i*3},{i})')\n",
        "\n",
        "print(f'Highest accuracy:\\nlayer:{list_layer[(list_acc.index(max(list_acc)))]}, accuracy: {max(list_acc):g}%')\n",
        "plt.figure(figsize=(13,4))\n",
        "plt.plot(list_layer, list_acc, '-*')\n",
        "plt.xticks(list_layer)\n",
        "plt.xlabel('Hidden Layer')\n",
        "plt.ylabel('Accuracy (%)')\n",
        "plt.show()"
      ]
    },
    {
      "cell_type": "code",
      "source": [
        "#training with Neuron = (i+2, i) -> i = [2,20] with activation relu\n",
        "list_acc = []\n",
        "list_layer = []\n",
        "rangeN = range(2,21)\n",
        "for i in rangeN:\n",
        "  ann = MLPClassifier(hidden_layer_sizes=(i+2,i), max_iter=1500, random_state=1)\n",
        "  ann.fit(xtrain_ann, ytrain_ann)\n",
        "  ypred_ann = ann.predict(xtest_ann)\n",
        "  acc = 100*accuracy_score(ytest_ann, ypred_ann)\n",
        "  list_acc.append(acc)\n",
        "  list_layer.append(f'({i+2},{i})')\n",
        "\n",
        "print(f'Highest accuracy:\\nlayer:{list_layer[(list_acc.index(max(list_acc)))]}, accuracy: {max(list_acc):g}%')\n",
        "plt.figure(figsize=(13,4))\n",
        "plt.plot(list_layer, list_acc, '-*')\n",
        "plt.xticks(list_layer)\n",
        "plt.xlabel('Hidden Layer')\n",
        "plt.ylabel('Accuracy (%)')\n",
        "plt.show()"
      ],
      "metadata": {
        "colab": {
          "base_uri": "https://localhost:8080/",
          "height": 314
        },
        "id": "V_InCRFi3Wi5",
        "outputId": "8c928572-94d3-4008-8a22-dd1cd293aa8e"
      },
      "execution_count": 224,
      "outputs": [
        {
          "output_type": "stream",
          "name": "stdout",
          "text": [
            "Highest accuracy:\n",
            "layer:(4,2), accuracy: 95.1076%\n"
          ]
        },
        {
          "output_type": "display_data",
          "data": {
            "text/plain": [
              "<Figure size 936x288 with 1 Axes>"
            ],
            "image/png": "[encoded data removed]"
          },
          "metadata": {
            "needs_background": "light"
          }
        }
      ]
    },
    {
      "cell_type": "code",
      "source": [
        "#training with Neuron = (i+2, i) -> i = [2,20] with activation relu\n",
        "list_acc = []\n",
        "list_layer = []\n",
        "rangeN = range(2,21)\n",
        "for i in rangeN:\n",
        "  ann = MLPClassifier(hidden_layer_sizes=(i,), max_iter=1000, random_state=1)\n",
        "  ann.fit(xtrain_ann, ytrain_ann)\n",
        "  ypred_ann = ann.predict(xtest_ann)\n",
        "  acc = 100*accuracy_score(ytest_ann, ypred_ann)\n",
        "  list_acc.append(acc)\n",
        "  list_layer.append(f'({i})')\n",
        "\n",
        "print(f'Highest accuracy:\\nlayer:{list_layer[(list_acc.index(max(list_acc)))]}, accuracy: {max(list_acc):g}%')\n",
        "plt.figure(figsize=(13,4))\n",
        "plt.plot(list_layer, list_acc, '-*')\n",
        "plt.xticks(list_layer)\n",
        "plt.xlabel('Hidden Layer')\n",
        "plt.ylabel('Accuracy (%)')\n",
        "plt.show()"
      ],
      "metadata": {
        "colab": {
          "base_uri": "https://localhost:8080/",
          "height": 316
        },
        "id": "DRBnA-Ip6eS6",
        "outputId": "8f857b0e-4aef-4468-9031-7bd30e8f3205"
      },
      "execution_count": 225,
      "outputs": [
        {
          "output_type": "stream",
          "name": "stdout",
          "text": [
            "Highest accuracy:\n",
            "layer:(2), accuracy: 95.1076%\n"
          ]
        },
        {
          "output_type": "display_data",
          "data": {
            "text/plain": [
              "<Figure size 936x288 with 1 Axes>"
            ],
            "image/png": "[encoded data removed]"
          },
          "metadata": {
            "needs_background": "light"
          }
        }
      ]
    },
    {
      "cell_type": "code",
      "source": [
        "list_activation = ['logistic', 'tanh', 'identity']\n",
        "for i in range(len(list_activation)):\n",
        "  ann = MLPClassifier(hidden_layer_sizes=(9,3, ), activation=list_activation[i], max_iter=1500, alpha=0.001, random_state=1)\n",
        "  ann.fit(xtrain_ann, ytrain_ann)\n",
        "  ypred_ann = ann.predict(xtest_ann)\n",
        "  acc = 100*accuracy_score(ytest_ann, ypred_ann)\n",
        "  print(f'activation: {list_activation[i]}, accuracy: {acc:g}%')\n",
        "  display_cm(ytest_ann, ypred_ann)\n",
        "  display_cr(ytest_ann, ypred_ann, target_names)"
      ],
      "metadata": {
        "colab": {
          "base_uri": "https://localhost:8080/"
        },
        "id": "rf-PMsTeWaQC",
        "outputId": "df4c00df-6998-4c39-9ce0-65d337247003"
      },
      "execution_count": 226,
      "outputs": [
        {
          "output_type": "stream",
          "name": "stdout",
          "text": [
            "activation: logistic, accuracy: 95.1076%\n",
            "Confusion Matrix:\n",
            "[[1458    0]\n",
            " [  75    0]]\n",
            "\n",
            "Normalized Confusion Matrix:\n",
            "[[1. 0.]\n",
            " [1. 0.]]\n",
            "\n",
            "Classification Report :\n",
            "              precision    recall  f1-score   support\n",
            "\n",
            "          no       0.95      1.00      0.97      1458\n",
            "         yes       0.00      0.00      0.00        75\n",
            "\n",
            "    accuracy                           0.95      1533\n",
            "   macro avg       0.48      0.50      0.49      1533\n",
            "weighted avg       0.90      0.95      0.93      1533\n",
            "\n",
            "activation: tanh, accuracy: 94.1944%\n",
            "Confusion Matrix:\n",
            "[[1436   22]\n",
            " [  67    8]]\n",
            "\n",
            "Normalized Confusion Matrix:\n",
            "[[0.98491084 0.01508916]\n",
            " [0.89333333 0.10666667]]\n",
            "\n",
            "Classification Report :\n",
            "              precision    recall  f1-score   support\n",
            "\n",
            "          no       0.96      0.98      0.97      1458\n",
            "         yes       0.27      0.11      0.15        75\n",
            "\n",
            "    accuracy                           0.94      1533\n",
            "   macro avg       0.61      0.55      0.56      1533\n",
            "weighted avg       0.92      0.94      0.93      1533\n",
            "\n",
            "activation: identity, accuracy: 95.1076%\n",
            "Confusion Matrix:\n",
            "[[1458    0]\n",
            " [  75    0]]\n",
            "\n",
            "Normalized Confusion Matrix:\n",
            "[[1. 0.]\n",
            " [1. 0.]]\n",
            "\n",
            "Classification Report :\n",
            "              precision    recall  f1-score   support\n",
            "\n",
            "          no       0.95      1.00      0.97      1458\n",
            "         yes       0.00      0.00      0.00        75\n",
            "\n",
            "    accuracy                           0.95      1533\n",
            "   macro avg       0.48      0.50      0.49      1533\n",
            "weighted avg       0.90      0.95      0.93      1533\n",
            "\n"
          ]
        }
      ]
    },
    {
      "cell_type": "code",
      "source": [
        "#split data into training data, validation data and testing data\n",
        "xtrain_ann, xtest_ann, ytrain_ann, ytest_ann = train_test_split(features, target, test_size=0.3, stratify=target, random_state=1)\n",
        "xtrain_ann, xval_ann, ytrain_ann, yval_ann = train_test_split(xtrain_ann, ytrain_ann ,test_size=1533/3577, stratify=ytrain_ann, random_state=1)\n",
        "print(f'xtrain shape: {xtrain_ann.shape}')\n",
        "print(f'ytrain shape: {ytrain_ann.shape}')\n",
        "print(f'xval shape: {xval_ann.shape}')\n",
        "print(f'yval shape: {yval_ann.shape}')\n",
        "print(f'xtest shape: {xtest_ann.shape}')\n",
        "print(f'ytest shape: {ytest_ann.shape}')"
      ],
      "metadata": {
        "colab": {
          "base_uri": "https://localhost:8080/"
        },
        "id": "QuIH0D_ts-Kr",
        "outputId": "17b268ee-9966-4aec-fb7d-fa8036dc4aa6"
      },
      "execution_count": 227,
      "outputs": [
        {
          "output_type": "stream",
          "name": "stdout",
          "text": [
            "xtrain shape: (2044, 10)\n",
            "ytrain shape: (2044,)\n",
            "xval shape: (1533, 10)\n",
            "yval shape: (1533,)\n",
            "xtest shape: (1533, 10)\n",
            "ytest shape: (1533,)\n"
          ]
        }
      ]
    },
    {
      "cell_type": "code",
      "source": [
        "#Preprocessing Data\n",
        "xtrain_ann, ytrain_ann = drop_outliers(xtrain_ann, ytrain_ann)\n",
        "_, xtest_ann = standard_scaler(xtrain_ann, xtest_ann)\n",
        "xtrain_ann, xval_ann = standard_scaler(xtrain_ann, xval_ann)"
      ],
      "metadata": {
        "colab": {
          "base_uri": "https://localhost:8080/"
        },
        "id": "lAzRoGhps-IU",
        "outputId": "1784ff16-48cb-4359-afa4-c3faa8f205f9"
      },
      "execution_count": 228,
      "outputs": [
        {
          "output_type": "stream",
          "name": "stdout",
          "text": [
            "Drop Outliers - Successfully\n",
            "Shape: (Feature(2044, 10) Target(2044,) => Feature(1556, 10) Target(1556,))\n",
            "Standard Scaling - Successfully\n",
            "Standard Scaling - Successfully\n"
          ]
        }
      ]
    },
    {
      "cell_type": "code",
      "source": [
        "#training \n",
        "ann = MLPClassifier(hidden_layer_sizes=(9, 3,), activation='tanh', max_iter=1500, alpha=0.00001, random_state=1)\n",
        "ann.fit(xtrain_ann, ytrain_ann)\n",
        "#validation\n",
        "ypred_ann = ann.predict(xval_ann)\n",
        "acc = 100*accuracy_score(yval_ann, ypred_ann)\n",
        "print(f'Best validation accuracy: {acc:g}%')\n",
        "#testing\n",
        "ypred_ann = ann.predict(xtest_ann)\n",
        "acc = 100*accuracy_score(ytest_ann, ypred_ann)\n",
        "print(f'Best testing accuracy: {acc:g}%')"
      ],
      "metadata": {
        "colab": {
          "base_uri": "https://localhost:8080/"
        },
        "id": "opah7CXKs9_6",
        "outputId": "ad5399a3-0a77-4500-c105-c32465979cfa"
      },
      "execution_count": 229,
      "outputs": [
        {
          "output_type": "stream",
          "name": "stdout",
          "text": [
            "Best validation accuracy: 94.5858%\n",
            "Best testing accuracy: 94.2596%\n"
          ]
        }
      ]
    },
    {
      "cell_type": "code",
      "source": [
        "#Stratified Holdout\n",
        "sss = list(StratifiedShuffleSplit(n_splits=10, test_size=0.3, random_state=1).split(features, target))\n",
        "\n",
        "ann = MLPClassifier(hidden_layer_sizes=(9, 3,), activation='tanh', max_iter=1500, alpha=0.00001, random_state=1)\n",
        "acc = cross_val_score(ann, features, target, cv=sss)\n",
        "print(f'Highest accuracy: {100*acc.mean():g}%')"
      ],
      "metadata": {
        "colab": {
          "base_uri": "https://localhost:8080/"
        },
        "id": "zhb-6TvGwC7E",
        "outputId": "44fa5a62-7b38-4b13-db3e-362f319cb7a8"
      },
      "execution_count": 230,
      "outputs": [
        {
          "output_type": "stream",
          "name": "stdout",
          "text": [
            "Highest accuracy: 95.1076%\n"
          ]
        }
      ]
    },
    {
      "cell_type": "code",
      "source": [
        "#K-Fold Cross Validation\n",
        "ann = MLPClassifier(hidden_layer_sizes=(9, 3,), activation='tanh', max_iter=1500, alpha=0.00001, random_state=1)\n",
        "acc = cross_val_score(ann, features, target, cv=30)\n",
        "print(f'Highest accuracy: {100*acc.mean():g}%')"
      ],
      "metadata": {
        "colab": {
          "base_uri": "https://localhost:8080/"
        },
        "id": "eI1zKM9HwMMl",
        "outputId": "830df931-443c-4238-906f-607b4cb92a07"
      },
      "execution_count": 231,
      "outputs": [
        {
          "output_type": "stream",
          "name": "stdout",
          "text": [
            "Highest accuracy: 95.1082%\n"
          ]
        }
      ]
    },
    {
      "cell_type": "markdown",
      "source": [
        "###**Scenario 2**"
      ],
      "metadata": {
        "id": "YCgBDEMAwaJE"
      }
    },
    {
      "cell_type": "code",
      "source": [
        "#split data into training data and testing data\n",
        "xtrain_ann, xtest_ann, ytrain_ann, ytest_ann = train_test_split(features, target, test_size=0.3, stratify=target, random_state=1)\n",
        "print(f'xtrain shape: {xtrain_ann.shape}')\n",
        "print(f'ytrain shape: {ytrain_ann.shape}')\n",
        "print(f'xtest shape: {xtest_ann.shape}')\n",
        "print(f'ytest shape: {ytest_ann.shape}')"
      ],
      "metadata": {
        "colab": {
          "base_uri": "https://localhost:8080/"
        },
        "id": "G-4NhstjwdO0",
        "outputId": "31e98962-9982-404d-beeb-07fdeca15d43"
      },
      "execution_count": 232,
      "outputs": [
        {
          "output_type": "stream",
          "name": "stdout",
          "text": [
            "xtrain shape: (3577, 10)\n",
            "ytrain shape: (3577,)\n",
            "xtest shape: (1533, 10)\n",
            "ytest shape: (1533,)\n"
          ]
        }
      ]
    },
    {
      "cell_type": "code",
      "source": [
        "#Preprocessing Data\n",
        "xtrain_ann, xtest_ann = standard_scaler(xtrain_ann, xtest_ann)"
      ],
      "metadata": {
        "colab": {
          "base_uri": "https://localhost:8080/"
        },
        "id": "m_X_rhbjytLj",
        "outputId": "8cb0d6a3-1cb0-473d-ae46-654c148c6610"
      },
      "execution_count": 233,
      "outputs": [
        {
          "output_type": "stream",
          "name": "stdout",
          "text": [
            "Standard Scaling - Successfully\n"
          ]
        }
      ]
    },
    {
      "cell_type": "code",
      "source": [
        "#Feature Selection\n",
        "x2, pval = f_classif(xtrain_ann, ytrain_ann)\n",
        "selected_col = np.where(pval<1.e-5)[0]\n",
        "\n",
        "xtrain_ann_selected = xtrain_ann[:, selected_col]\n",
        "xtest_ann_selected = xtest_ann[:, selected_col]\n",
        "\n",
        "print(f'P-value         : {pval}')\n",
        "print(f'all columns     : {[*range(len(xtrain_ann[1,:]))]}')\n",
        "print(f'Selected columns: {selected_col.tolist()}')"
      ],
      "metadata": {
        "colab": {
          "base_uri": "https://localhost:8080/"
        },
        "id": "ZWfnZS9MytGK",
        "outputId": "0e96b79b-7906-4e6d-8400-37ed71e94411"
      },
      "execution_count": 234,
      "outputs": [
        {
          "output_type": "stream",
          "name": "stdout",
          "text": [
            "P-value         : [7.66348373e-01 1.18805646e-51 6.09045104e-12 1.33783755e-16\n",
            " 1.33570385e-10 4.40009038e-04 6.82175845e-01 1.47047684e-13\n",
            " 2.01461271e-02 4.37292998e-06]\n",
            "all columns     : [0, 1, 2, 3, 4, 5, 6, 7, 8, 9]\n",
            "Selected columns: [1, 2, 3, 4, 7, 9]\n"
          ]
        }
      ]
    },
    {
      "cell_type": "code",
      "source": [
        "#Dimentional Reduction without Feature Selection\n",
        "r = 1\n",
        "max_acc = 0\n",
        "for i in range(1,len(xtrain_ann[1,:])+1):\n",
        "  pca = PCA(i)\n",
        "  ztrain_ann = pca.fit_transform(xtrain_ann)\n",
        "  ztest_ann = pca.transform(xtest_ann)\n",
        "  ann = MLPClassifier(max_iter=1500, random_state=1)\n",
        "  ann.fit(ztrain_ann, ytrain_ann)\n",
        "  ypred_ann = ann.predict(ztest_ann)\n",
        "  acc = 100*accuracy_score(ytest_ann, ypred_ann)\n",
        "  print(f'PCs {i}, accuracy: {acc:g}%')\n",
        "  if(acc>max_acc):\n",
        "    r = i\n",
        "    max_acc = acc\n",
        "print(f'Optimum selected PCs: {r}')\n",
        "print(f'Maximum accuracy: {max_acc:g}%')"
      ],
      "metadata": {
        "colab": {
          "base_uri": "https://localhost:8080/"
        },
        "id": "73jrbvm3ys6Q",
        "outputId": "fc735459-6f8f-4b55-cd2e-c890ee7bb314"
      },
      "execution_count": 235,
      "outputs": [
        {
          "output_type": "stream",
          "name": "stdout",
          "text": [
            "PCs 1, accuracy: 95.1076%\n",
            "PCs 2, accuracy: 95.1076%\n",
            "PCs 3, accuracy: 95.1076%\n",
            "PCs 4, accuracy: 95.1076%\n",
            "PCs 5, accuracy: 95.1076%\n",
            "PCs 6, accuracy: 95.1076%\n",
            "PCs 7, accuracy: 94.9772%\n",
            "PCs 8, accuracy: 94.9119%\n",
            "PCs 9, accuracy: 94.3901%\n",
            "PCs 10, accuracy: 93.6725%\n",
            "Optimum selected PCs: 1\n",
            "Maximum accuracy: 95.1076%\n"
          ]
        }
      ]
    },
    {
      "cell_type": "code",
      "source": [
        "#Dimentional Reduction with Feature Selection\n",
        "r = 1\n",
        "max_acc = 0\n",
        "for i in range(1,len(selected_col)+1):\n",
        "  pca = PCA(i)\n",
        "  ztrain_ann = pca.fit_transform(xtrain_ann_selected)\n",
        "  ztest_ann = pca.transform(xtest_ann_selected)\n",
        "  ann = MLPClassifier(max_iter=1500, random_state=1)\n",
        "  ann.fit(ztrain_ann, ytrain_ann)\n",
        "  ypred_ann = ann.predict(ztest_ann)\n",
        "  acc = 100*accuracy_score(ytest_ann, ypred_ann)\n",
        "  print(f'PCs {i}, accuracy: {acc:g}%')\n",
        "  if(acc>max_acc):\n",
        "    r = i\n",
        "    max_acc = acc\n",
        "print(f'Optimum selected PCs: {r}')\n",
        "print(f'Maximum accuracy: {max_acc:g}%')"
      ],
      "metadata": {
        "colab": {
          "base_uri": "https://localhost:8080/"
        },
        "id": "cmSZt7m2z4F0",
        "outputId": "8e39069d-65b1-42b3-f334-bd8b449f73d5"
      },
      "execution_count": 236,
      "outputs": [
        {
          "output_type": "stream",
          "name": "stdout",
          "text": [
            "PCs 1, accuracy: 95.1076%\n",
            "PCs 2, accuracy: 95.1076%\n",
            "PCs 3, accuracy: 95.1076%\n",
            "PCs 4, accuracy: 95.1076%\n",
            "PCs 5, accuracy: 95.1076%\n",
            "PCs 6, accuracy: 94.9772%\n",
            "Optimum selected PCs: 1\n",
            "Maximum accuracy: 95.1076%\n"
          ]
        }
      ]
    },
    {
      "cell_type": "code",
      "source": [
        "#Training with PCA(1) and Feature Selection\n",
        "pca = PCA(1)\n",
        "ztrain_ann = pca.fit_transform(xtrain_ann_selected)\n",
        "ztest_ann = pca.transform(xtest_ann_selected)\n",
        "ann = MLPClassifier(hidden_layer_sizes=(9,3,), max_iter=1500, alpha=0.0001, random_state=1)\n",
        "ann.fit(ztrain_ann, ytrain_ann)\n",
        "ypred_ann = ann.predict(ztest_ann)\n",
        "acc = 100*accuracy_score(ytest_ann, ypred_ann)\n",
        "print(f'accuracy: {acc:g}%')"
      ],
      "metadata": {
        "colab": {
          "base_uri": "https://localhost:8080/"
        },
        "id": "pz5gMrdh2zXR",
        "outputId": "ab46ce59-e8f7-4a1b-f95e-154088b9160e"
      },
      "execution_count": 237,
      "outputs": [
        {
          "output_type": "stream",
          "name": "stdout",
          "text": [
            "accuracy: 95.1076%\n"
          ]
        }
      ]
    },
    {
      "cell_type": "code",
      "source": [
        "#Display Confusion Matrix and Classification Report\n",
        "display_cm(ytest_ann, ypred_ann)\n",
        "display_cr(ytest_ann, ypred_ann, target_names)"
      ],
      "metadata": {
        "colab": {
          "base_uri": "https://localhost:8080/"
        },
        "id": "nu9bV2LhCJay",
        "outputId": "76ee7ec1-fae0-4b95-f4a1-bba6e320148c"
      },
      "execution_count": 238,
      "outputs": [
        {
          "output_type": "stream",
          "name": "stdout",
          "text": [
            "Confusion Matrix:\n",
            "[[1458    0]\n",
            " [  75    0]]\n",
            "\n",
            "Normalized Confusion Matrix:\n",
            "[[1. 0.]\n",
            " [1. 0.]]\n",
            "\n",
            "Classification Report :\n",
            "              precision    recall  f1-score   support\n",
            "\n",
            "          no       0.95      1.00      0.97      1458\n",
            "         yes       0.00      0.00      0.00        75\n",
            "\n",
            "    accuracy                           0.95      1533\n",
            "   macro avg       0.48      0.50      0.49      1533\n",
            "weighted avg       0.90      0.95      0.93      1533\n",
            "\n"
          ]
        }
      ]
    },
    {
      "cell_type": "markdown",
      "metadata": {
        "id": "RqNx34vuewsN"
      },
      "source": [
        "###**Scenario 3**"
      ]
    },
    {
      "cell_type": "code",
      "execution_count": 239,
      "metadata": {
        "id": "L_QyCNxpewQm",
        "colab": {
          "base_uri": "https://localhost:8080/"
        },
        "outputId": "0c5cc4a5-9455-4a89-c76b-25127f7037a9"
      },
      "outputs": [
        {
          "output_type": "stream",
          "name": "stdout",
          "text": [
            "xtrain shape: (6805, 10)\n",
            "ytrain shape: (6805,)\n",
            "xtest shape: (2917, 10)\n",
            "ytest shape: (2917,)\n"
          ]
        }
      ],
      "source": [
        "#split data into training data and testing data\n",
        "xtrain_ann, xtest_ann, ytrain_ann, ytest_ann = train_test_split(features_resampled, target_resampled, test_size=0.3, stratify=target_resampled, random_state=1)\n",
        "print(f'xtrain shape: {xtrain_ann.shape}')\n",
        "print(f'ytrain shape: {ytrain_ann.shape}')\n",
        "print(f'xtest shape: {xtest_ann.shape}')\n",
        "print(f'ytest shape: {ytest_ann.shape}')"
      ]
    },
    {
      "cell_type": "code",
      "execution_count": 240,
      "metadata": {
        "id": "ZoD7uBS4USuN",
        "colab": {
          "base_uri": "https://localhost:8080/"
        },
        "outputId": "b220ddea-8330-445d-f66a-90ff3984252d"
      },
      "outputs": [
        {
          "output_type": "stream",
          "name": "stdout",
          "text": [
            "Standard Scaling - Successfully\n"
          ]
        }
      ],
      "source": [
        "#Preprocessing Data\n",
        "xtrain_ann, xtest_ann = standard_scaler(xtrain_ann, xtest_ann)"
      ]
    },
    {
      "cell_type": "code",
      "execution_count": 241,
      "metadata": {
        "id": "W5KsdVUpUUza",
        "colab": {
          "base_uri": "https://localhost:8080/"
        },
        "outputId": "9cb01741-407e-4fd3-bbe6-331383b88cae"
      },
      "outputs": [
        {
          "output_type": "stream",
          "name": "stdout",
          "text": [
            "P-value         : [2.23971349e-003 0.00000000e+000 1.08697163e-102 3.59344817e-093\n",
            " 2.19689849e-156 6.20139603e-046 1.96264206e-004 3.80445959e-092\n",
            " 1.31276965e-012 5.89347243e-039]\n",
            "all columns     : [0, 1, 2, 3, 4, 5, 6, 7, 8, 9]\n",
            "Selected columns: [1, 2, 3, 4, 7]\n"
          ]
        }
      ],
      "source": [
        "#Feature Selection\n",
        "x2, pval = f_classif(xtrain_ann, ytrain_ann)\n",
        "selected_col = np.where(pval<1.e-50)[0]\n",
        "\n",
        "xtrain_ann_selected = xtrain_ann[:, selected_col]\n",
        "xtest_ann_selected = xtest_ann[:, selected_col]\n",
        "\n",
        "print(f'P-value         : {pval}')\n",
        "print(f'all columns     : {[*range(len(xtrain_ann[1,:]))]}')\n",
        "print(f'Selected columns: {selected_col.tolist()}')"
      ]
    },
    {
      "cell_type": "code",
      "execution_count": 242,
      "metadata": {
        "id": "X-jMVDimUgCM",
        "colab": {
          "base_uri": "https://localhost:8080/"
        },
        "outputId": "602a1904-92f0-44c1-a37c-8acb1dd7804e"
      },
      "outputs": [
        {
          "output_type": "stream",
          "name": "stdout",
          "text": [
            "Accuracy: 89.5098%\n"
          ]
        }
      ],
      "source": [
        "#Without Dimentional Reduction and Feature Selection\n",
        "ann = MLPClassifier(hidden_layer_sizes=(9,3,), activation='logistic', max_iter=1500, random_state=1)\n",
        "ann.fit(xtrain_ann, ytrain_ann)\n",
        "ypred_ann = ann.predict(xtest_ann)\n",
        "acc = 100*accuracy_score(ytest_ann, ypred_ann)\n",
        "print(f'Accuracy: {acc:g}%')"
      ]
    },
    {
      "cell_type": "code",
      "source": [
        "#Dimentional Reduction without Feature Selection\n",
        "r = 1\n",
        "max_acc = 0\n",
        "for i in range(1,len(xtrain_ann[1,:])+1):\n",
        "  pca = PCA(i)\n",
        "  ztrain_ann = pca.fit_transform(xtrain_ann)\n",
        "  ztest_ann = pca.transform(xtest_ann)\n",
        "  ann = MLPClassifier(hidden_layer_sizes=(9,3,), max_iter=1500, random_state=1)\n",
        "  ann.fit(ztrain_ann, ytrain_ann)\n",
        "  ypred_ann = ann.predict(ztest_ann)\n",
        "  acc = 100*accuracy_score(ytest_ann, ypred_ann)\n",
        "  print(f'PCs {i}, accuracy: {acc:g}%')\n",
        "  if(acc>max_acc):\n",
        "    r = i\n",
        "    max_acc = acc\n",
        "print(f'Optimum selected PCs: {r}')\n",
        "print(f'Maximum accuracy: {max_acc:g}%')"
      ],
      "metadata": {
        "colab": {
          "base_uri": "https://localhost:8080/"
        },
        "id": "cFTTvB91DCXq",
        "outputId": "56a308e6-9aed-42cf-e811-de0061386733"
      },
      "execution_count": 243,
      "outputs": [
        {
          "output_type": "stream",
          "name": "stdout",
          "text": [
            "PCs 1, accuracy: 70.4834%\n",
            "PCs 2, accuracy: 71.1004%\n",
            "PCs 3, accuracy: 50.0171%\n",
            "PCs 4, accuracy: 79.4652%\n",
            "PCs 5, accuracy: 80.5279%\n",
            "PCs 6, accuracy: 86.1502%\n",
            "PCs 7, accuracy: 87.5557%\n",
            "PCs 8, accuracy: 88.2413%\n",
            "PCs 9, accuracy: 86.2873%\n",
            "PCs 10, accuracy: 86.8701%\n",
            "Optimum selected PCs: 8\n",
            "Maximum accuracy: 88.2413%\n"
          ]
        }
      ]
    },
    {
      "cell_type": "code",
      "source": [
        "#Dimentional Reduction with Feature Selection\n",
        "r = 1\n",
        "max_acc = 0\n",
        "for i in range(1,len(selected_col)+1):\n",
        "  pca = PCA(i)\n",
        "  ztrain_ann = pca.fit_transform(xtrain_ann_selected)\n",
        "  ztest_ann = pca.transform(xtest_ann_selected)\n",
        "  ann = MLPClassifier(hidden_layer_sizes=(9,3,), activation='logistic', max_iter=1500, random_state=1)\n",
        "  ann.fit(ztrain_ann, ytrain_ann)\n",
        "  ypred_ann = ann.predict(ztest_ann)\n",
        "  acc = 100*accuracy_score(ytest_ann, ypred_ann)\n",
        "  print(f'PCs {i}, accuracy: {acc:g}%')\n",
        "  if(acc>max_acc):\n",
        "    r = i\n",
        "    max_acc = acc\n",
        "print(f'Optimum selected PCs: {r}')\n",
        "print(f'Maximum accuracy: {max_acc:g}%')"
      ],
      "metadata": {
        "colab": {
          "base_uri": "https://localhost:8080/"
        },
        "id": "EFA_vFOUDzOZ",
        "outputId": "a9cb31f7-b494-4d08-ec6d-3a911f1aac43"
      },
      "execution_count": 244,
      "outputs": [
        {
          "output_type": "stream",
          "name": "stdout",
          "text": [
            "PCs 1, accuracy: 76.517%\n",
            "PCs 2, accuracy: 76.7227%\n",
            "PCs 3, accuracy: 78.6424%\n",
            "PCs 4, accuracy: 77.8882%\n",
            "PCs 5, accuracy: 84.0932%\n",
            "Optimum selected PCs: 5\n",
            "Maximum accuracy: 84.0932%\n"
          ]
        }
      ]
    },
    {
      "cell_type": "code",
      "source": [
        "#training with layer(100,100) Without Dimentional Reduction and Feature Selection\n",
        "ann = MLPClassifier(hidden_layer_sizes=(300,100,), activation='logistic', max_iter=1500, random_state=1)\n",
        "ann.fit(xtrain_ann, ytrain_ann)\n",
        "ypred_ann = ann.predict(xtest_ann)\n",
        "acc = 100*accuracy_score(ytest_ann, ypred_ann)\n",
        "print(f'Accuracy: {acc:g}%')"
      ],
      "metadata": {
        "colab": {
          "base_uri": "https://localhost:8080/"
        },
        "id": "hiI6hry6HbtR",
        "outputId": "adf5ab59-b157-4a79-f77a-7dc703677858"
      },
      "execution_count": 245,
      "outputs": [
        {
          "output_type": "stream",
          "name": "stdout",
          "text": [
            "Accuracy: 91.6695%\n"
          ]
        }
      ]
    },
    {
      "cell_type": "code",
      "source": [
        "#Display Confusion Matrix and Classification Report\n",
        "display_cm(ytest_ann, ypred_ann)\n",
        "display_cr(ytest_ann, ypred_ann, target_names)"
      ],
      "metadata": {
        "colab": {
          "base_uri": "https://localhost:8080/"
        },
        "id": "lw48i49EJUwZ",
        "outputId": "9176aab0-a015-4ae6-dd41-b2260790ad79"
      },
      "execution_count": 246,
      "outputs": [
        {
          "output_type": "stream",
          "name": "stdout",
          "text": [
            "Confusion Matrix:\n",
            "[[1313  145]\n",
            " [  98 1361]]\n",
            "\n",
            "Normalized Confusion Matrix:\n",
            "[[0.9005487  0.0994513 ]\n",
            " [0.06716929 0.93283071]]\n",
            "\n",
            "Classification Report :\n",
            "              precision    recall  f1-score   support\n",
            "\n",
            "          no       0.93      0.90      0.92      1458\n",
            "         yes       0.90      0.93      0.92      1459\n",
            "\n",
            "    accuracy                           0.92      2917\n",
            "   macro avg       0.92      0.92      0.92      2917\n",
            "weighted avg       0.92      0.92      0.92      2917\n",
            "\n"
          ]
        }
      ]
    },
    {
      "cell_type": "code",
      "source": [
        "#K-Fold Cross Validation\n",
        "ann = MLPClassifier(hidden_layer_sizes=(9, 3,), activation='logistic', max_iter=1500, random_state=1)\n",
        "acc = cross_val_score(ann, features_resampled, target_resampled, cv=30)\n",
        "print(f'Highest accuracy: {100*acc.mean():g}%')"
      ],
      "metadata": {
        "colab": {
          "base_uri": "https://localhost:8080/"
        },
        "id": "MsRiQhBEBj2X",
        "outputId": "4399778a-aef7-4935-99c1-e86b221ba48d"
      },
      "execution_count": 247,
      "outputs": [
        {
          "output_type": "stream",
          "name": "stdout",
          "text": [
            "Highest accuracy: 82.2472%\n"
          ]
        }
      ]
    },
    {
      "cell_type": "code",
      "source": [
        "print(f'time taken: {round((time() - start)/60, 2)} minute') "
      ],
      "metadata": {
        "colab": {
          "base_uri": "https://localhost:8080/"
        },
        "id": "vev6UhM1rZJZ",
        "outputId": "23dac07e-49e9-492e-de5d-5c79767bfd7e"
      },
      "execution_count": 248,
      "outputs": [
        {
          "output_type": "stream",
          "name": "stdout",
          "text": [
            "time taken: 19.32 minute\n"
          ]
        }
      ]
    }
  ],
  "metadata": {
    "colab": {
      "collapsed_sections": [
        "JbPqG_C0max4",
        "eubWFYuVx66U",
        "gVc_ywpX8KrD",
        "czibEYCFyJUS",
        "YRCDciUS4ZzW",
        "4TJyGFZaOvXK",
        "ZgrwXXPR09dQ",
        "3FvNM9Ncn8ap",
        "ThJ9poVPoA1m",
        "Roxo_JulBKOe",
        "y98kjuKd0969",
        "TyXp07flzdsf",
        "KgnksfvKzh5j",
        "wHGkXt0EVIpv",
        "YCgBDEMAwaJE"
      ],
      "provenance": []
    },
    "gpuClass": "standard",
    "kernelspec": {
      "display_name": "Python 3",
      "name": "python3"
    },
    "language_info": {
      "name": "python"
    },
    "accelerator": "GPU"
  },
  "nbformat": 4,
  "nbformat_minor": 0
}